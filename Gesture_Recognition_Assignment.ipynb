{
 "cells": [
  {
   "cell_type": "markdown",
   "metadata": {
    "colab_type": "text",
    "id": "view-in-github"
   },
   "source": [
    "<a href=\"https://colab.research.google.com/github/spdsp04/Gesture_Recognition/blob/main/Gesture_Recognition.ipynb\" target=\"_parent\"><img src=\"https://colab.research.google.com/assets/colab-badge.svg\" alt=\"Open In Colab\"/></a>"
   ]
  },
  {
   "cell_type": "markdown",
   "metadata": {
    "id": "xgageSzSAAPY"
   },
   "source": [
    "# Gesture Recognition\n",
    "![1607_2716_0 (1)](https://user-images.githubusercontent.com/93203186/172011187-70099885-05f6-4e4a-9dbe-e4db30471f54.jpg)\n",
    "\n",
    "\n",
    "> Imagine working as a data scientist at a home electronics company which manufactures state of the art smart televisions. You want to develop a cool feature in the smart-TV that can recognise five different gestures performed by the user which will help users control the TV without using a remote. \n",
    "> The gestures are continuously monitored by the webcam mounted on the TV. Each gesture corresponds to a specific command:\n",
    "\n",
    "- Left swipe: 'Jump' backwards 10 seconds\n",
    "- Right swipe: 'Jump' forward 10 seconds  \n",
    "- Thumbs up:  Increase the volume\n",
    "- Thumbs down: Decrease the volume\n",
    "- Stop: Pause the movie\n",
    "\n",
    "## Understanding  Dataset\n",
    "> The training data consist of a few hundred videos categorised into one of the five classes. Each video (typically 2-3 seconds long) is divided into a sequence of 30 frames(images). \n",
    ">These videos have been recorded by various people performing one of the five gestures in front of a webcam - similar to what the smart TV will use. \n",
    "\n",
    "> The data is in a zip file. The zip file contains a 'train' and a 'val' folder with two CSV files for the two folders. \n",
    "> These folders are in turn divided into subfolders where each subfolder represents a video of a particular gesture. Each subfolder, i.e. a video, contains 30 frames (or images).\n",
    "> Note that all images in a particular video subfolder have the same dimensions but different videos may have different dimensions. Specifically, videos have two types of dimensions - either 360x360 or 120x160 (depending on the webcam used to record the videos). Hence, you will need to do some pre-processing to standardise the videos. \n",
    "\n",
    "> Each row of the CSV file represents one video and contains three main pieces of information - the name of the subfolder containing the 30 images of the video, the name of the gesture and the numeric label (between 0-4) of the video.\n",
    "\n",
    "> Here task is to train a model on the 'train' folder which performs well on the 'val' folder as well (as usually done in ML projects). We have withheld the test folder for evaluation purposes - your final model's performance will be tested on the 'test' set.\n",
    " \n",
    " ## Goals of the Project\n",
    "\n",
    "> __Generator:__  The generator should be able to take a batch of videos as input without any error. Steps like cropping, resizing and normalization should be performed successfully.\n",
    "\n",
    "> __Model:__ Develop a model that is able to train without any errors which will be judged on the total number of parameters (as the inference(prediction) time should be less) and the accuracy achieved.\n",
    "\n",
    "> __Write up:__ This should contain the detailed procedure followed in choosing the final model. The write up should start with the reason for choosing the base model, then highlight the reasons and metrics taken into consideration to modify and experiment to arrive at the final model. "
   ]
  },
  {
   "cell_type": "code",
   "execution_count": 12,
   "metadata": {
    "id": "HV1B24qwAAPh"
   },
   "outputs": [],
   "source": [
    "# Importing necessary libraries\n",
    "\n",
    "import numpy as np\n",
    "import os\n",
    "from skimage.transform import resize\n",
    "from imageio import imread\n",
    "import datetime\n",
    "import abc\n",
    "from sys import getsizeof\n",
    "\n",
    "import warnings\n",
    "warnings.filterwarnings(\"ignore\")\n"
   ]
  },
  {
   "cell_type": "markdown",
   "metadata": {
    "id": "SXnIoy-6AAPj"
   },
   "source": [
    "We set the random seed so that the results don't vary drastically."
   ]
  },
  {
   "cell_type": "code",
   "execution_count": 13,
   "metadata": {
    "id": "AqvzO1kXAAPk"
   },
   "outputs": [],
   "source": [
    "# Setting seed value\n",
    "\n",
    "np.random.seed(30)\n",
    "import random as rn\n",
    "rn.seed(30)\n",
    "from keras import backend as K\n",
    "import tensorflow as tf\n",
    "tf.random.set_seed(30)"
   ]
  },
  {
   "cell_type": "markdown",
   "metadata": {
    "id": "S6on9TJ1AAPl"
   },
   "source": [
    "## Loading Dataset\n",
    "\n",
    "Loading file for training and validation data.\n",
    "Setting the `batch_size` here."
   ]
  },
  {
   "cell_type": "code",
   "execution_count": 14,
   "metadata": {
    "id": "xCmQ4vKvAAPm"
   },
   "outputs": [],
   "source": [
    "train_doc = np.random.permutation(open('/home/datasets/Project_data/train.csv').readlines())\n",
    "val_doc = np.random.permutation(open('/home/datasets/Project_data/val.csv').readlines())\n",
    "\n"
   ]
  },
  {
   "cell_type": "markdown",
   "metadata": {},
   "source": [
    "### Selecting Batch Size and epochs for all the model."
   ]
  },
  {
   "cell_type": "code",
   "execution_count": 15,
   "metadata": {},
   "outputs": [],
   "source": [
    "num_epochs = 20       # choose the number of epochs\n",
    "batch_size = 40        # choose the number of batch"
   ]
  },
  {
   "cell_type": "markdown",
   "metadata": {
    "id": "qcV1ThlhAAPn"
   },
   "source": [
    "## Generator\n",
    "\n",
    "This is one of the most important part of the code. The overall structure of the generator has been given here. In the generator, we are going to preprocess the images as you have images of 2 different dimensions as well as create a batch of video frames. (We can experiment with `img_idx`, `y`,`z` and normalization until we can get high accuracy)"
   ]
  },
  {
   "cell_type": "code",
   "execution_count": 16,
   "metadata": {
    "id": "RhiT_22XZ8UG"
   },
   "outputs": [],
   "source": [
    "# Defining for Cropping and Resizing images\n",
    "\n",
    "def cropAndResize(image,HEIGHT_DIMENSION,WIDTH_DIMENSION):\n",
    "    # Crop the images and resize.  \n",
    "    # Note that the images are of 2 different shape  &  conv3D will throw error if the inputs in a batch are of different shapes.\n",
    "    # Croping (making aspect ratio same)\n",
    "    \n",
    "    if abs(image.shape[0]-image.shape[1])%2==0 and image.shape[0]!=image.shape[1]:\n",
    "        dimension_diff=abs(image.shape[0]-image.shape[1])\n",
    "        cropping_ratio=dimension_diff//2\n",
    "        if image.shape[0]>image.shape[1]:\n",
    "            image=image[cropping_ratio:image.shape[0]-cropping_ratio,:,:]\n",
    "        elif image.shape[0]<image.shape[1]:\n",
    "            image=image[:,cropping_ratio:image.shape[1]-cropping_ratio,:]\n",
    "                    \n",
    "    # Resizing\n",
    "    if image.shape[0]>120 or image.shape[1]>120:\n",
    "        image=resize(image, (120, 120))\n",
    "    return image"
   ]
  },
  {
   "cell_type": "code",
   "execution_count": 17,
   "metadata": {
    "id": "n1DsomEkAAPq"
   },
   "outputs": [],
   "source": [
    "# Defining Generator function\n",
    "\n",
    "def generator(source_path, folder_list, batch_size):\n",
    "    print( 'Source path = ', source_path, '; batch size =', batch_size)\n",
    "    img_idx = 7,9,10,11,12,13,14,15,16,17,18,19,20,21,22,24 #create a list of image no's you want to use for a particular video\n",
    "    while True:\n",
    "        t = np.random.permutation(folder_list)\n",
    "        num_batches = len(t)//batch_size                 # calculate the number of batches\n",
    "        remaining_batch_size=len(t)%batch_size\n",
    "        for batch in range(num_batches):                 # we iterate over the number of batches\n",
    "            batch_data = np.zeros((batch_size,16,120,120,3)) # x is the no. of images you use for each video,(y,z) is the final size of the input images and 3 is the number of channels RGB\n",
    "            batch_labels = np.zeros((batch_size,5))      # batch_labels is the one hot representation of the output\n",
    "            for folder in range(batch_size):             # iterate over the batch_size\n",
    "                imgs = os.listdir(source_path+'/'+ t[folder + (batch*batch_size)].split(';')[0]) # Read all the images in the folder\n",
    "                for idx,item in enumerate(img_idx):      # Iterate over the frames/images of a folder to read them in\n",
    "                    image = imread(source_path+'/'+ t[folder + (batch*batch_size)].strip().split(';')[0]+'/'+imgs[item]).astype(np.float32)\n",
    "                    \n",
    "                    image_resized = cropAndResize(image,120,120)    \n",
    "                    \n",
    "                    batch_data[folder,idx,:,:,0] = (image_resized[:,:,0])/255         # Normalise and feed in the image\n",
    "                    batch_data[folder,idx,:,:,1] = (image_resized[:,:,1])/255         # Normalise and feed in the image\n",
    "                    batch_data[folder,idx,:,:,2] = (image_resized[:,:,2])/255         # Normalise and feed in the image\n",
    "                    \n",
    "                batch_labels[folder, int(t[folder + (batch*batch_size)].strip().split(';')[2])] = 1\n",
    "            yield batch_data, batch_labels                # you yield the batch_data and the batch_labels\n",
    "            \n",
    "        for batch in range(num_batches,num_batches+1):    # iterate over the number of batches\n",
    "            batch_data = np.zeros((remaining_batch_size*2,16,120,120,3)) # x is the number of images you use for each video, (y,z) is the final size of the input images and 3 is the number of channels RGB\n",
    "            batch_labels = np.zeros((remaining_batch_size*2,5))       # batch_labels is the one hot representation of the output\n",
    "            for folder in range(remaining_batch_size):                # iterate over the batch_size\n",
    "                imgs = os.listdir(source_path+'/'+ t[folder + (batch*batch_size)].split(';')[0]) # read all the images in the folder\n",
    "                for idx,item in enumerate(img_idx): #  Iterate iver the frames/images of a folder to read them in\n",
    "                    image = imread(source_path+'/'+ t[folder + (batch*batch_size)].strip().split(';')[0]+'/'+imgs[item]).astype(np.float32)\n",
    "                    image_resized = cropAndResize(image,120,120)                    \n",
    "                    batch_data[folder,idx,:,:,0] = (image_resized[:,:,0])/255        #normalise and feed in the image\n",
    "                    batch_data[folder,idx,:,:,1] = (image_resized[:,:,1])/255        #normalise and feed in the image\n",
    "                    batch_data[folder,idx,:,:,2] = (image_resized[:,:,2])/255        #normalise and feed in the image\n",
    "                    \n",
    "                batch_labels[folder, int(t[folder + (batch*batch_size)].strip().split(';')[2])] = 1\n",
    "            yield batch_data, batch_labels"
   ]
  },
  {
   "cell_type": "markdown",
   "metadata": {
    "id": "NN5zBck4AAPr"
   },
   "source": [
    "Video is represented above in the generator as (number of images, height, width, number of channels). "
   ]
  },
  {
   "cell_type": "code",
   "execution_count": 18,
   "metadata": {
    "id": "duB78bvpAAPs"
   },
   "outputs": [],
   "source": [
    "# Fuction for plotting results on graph\n",
    "\n",
    "from matplotlib import pyplot as plt\n",
    "def plot(history):\n",
    "    fig, axes = plt.subplots(nrows=1, ncols=2, figsize=(15,4))\n",
    "    axes[0].plot(history.history['loss'])   \n",
    "    axes[0].plot(history.history['val_loss'])\n",
    "    axes[0].legend(['loss','val_loss'])\n",
    "\n",
    "    axes[1].plot(history.history['categorical_accuracy'])   \n",
    "    axes[1].plot(history.history['val_categorical_accuracy'])\n",
    "    axes[1].legend(['categorical_accuracy','val_categorical_accuracy'])"
   ]
  },
  {
   "cell_type": "code",
   "execution_count": 19,
   "metadata": {
    "colab": {
     "base_uri": "https://localhost:8080/"
    },
    "id": "CNkgEzXNAAPt",
    "outputId": "ad7c5324-35ca-452b-f574-ba0bbc1a38ab"
   },
   "outputs": [
    {
     "name": "stdout",
     "output_type": "stream",
     "text": [
      "Training sequences = 663\n",
      "Validation sequences = 100\n",
      "Epochs = 20\n"
     ]
    }
   ],
   "source": [
    "curr_dt_time = datetime.datetime.now()\n",
    "train_path = '/home/datasets/Project_data/train'\n",
    "val_path = '/home/datasets/Project_data/val'\n",
    "num_train_sequences = len(train_doc)\n",
    "print('Training sequences =', num_train_sequences)\n",
    "num_val_sequences = len(val_doc)\n",
    "print('Validation sequences =', num_val_sequences)\n",
    "print ('Epochs =', num_epochs)"
   ]
  },
  {
   "cell_type": "markdown",
   "metadata": {
    "id": "4WUnbIBqAAPu"
   },
   "source": [
    "## Model\n",
    "\n",
    "Design the network in such a way that the model is able to give good accuracy on the least number of parameters."
   ]
  },
  {
   "cell_type": "code",
   "execution_count": 20,
   "metadata": {
    "id": "Kg5IRVosAAPu"
   },
   "outputs": [],
   "source": [
    "from keras.models import Sequential, Model\n",
    "from keras.layers import Dense, GRU, Flatten, TimeDistributed, Flatten, BatchNormalization, Activation,Dropout,GlobalAveragePooling3D,LSTM,GlobalAveragePooling2D\n",
    "from keras.layers.convolutional import Conv3D, MaxPooling3D,Conv2D,MaxPooling2D\n",
    "from keras.callbacks import ModelCheckpoint, ReduceLROnPlateau,EarlyStopping\n",
    "from keras import optimizers\n",
    "\n",
    "img_idx = 7,9,10,11,12,13,14,15,16,17,18,19,20,21,22,24 \n",
    "\n",
    "input_shape = (len(img_idx), 120, 120, 3)\n",
    "\n",
    "np.random.seed(30)"
   ]
  },
  {
   "cell_type": "markdown",
   "metadata": {
    "id": "0xvZo9j0AAPv"
   },
   "source": [
    "### Model 1: Simple Conv3D Model\n"
   ]
  },
  {
   "cell_type": "code",
   "execution_count": 10,
   "metadata": {
    "id": "MtYgigrUAAPv"
   },
   "outputs": [
    {
     "name": "stderr",
     "output_type": "stream",
     "text": [
      "2023-01-12 01:54:08.883699: W tensorflow/core/common_runtime/gpu/gpu_bfc_allocator.cc:39] Overriding allow_growth setting because the TF_FORCE_GPU_ALLOW_GROWTH environment variable is set. Original config value was 0.\n",
      "2023-01-12 01:54:08.883764: I tensorflow/core/common_runtime/gpu/gpu_device.cc:1525] Created device /job:localhost/replica:0/task:0/device:GPU:0 with 14802 MB memory:  -> device: 0, name: Quadro RTX 5000, pci bus id: 0000:1c:00.0, compute capability: 7.5\n"
     ]
    }
   ],
   "source": [
    "model = Sequential()\n",
    "model.add(Conv3D(32, kernel_size=3, activation='relu', input_shape=input_shape))\n",
    "model.add(MaxPooling3D(pool_size=2))\n",
    "\n",
    "model.add(Conv3D(64, kernel_size=3, activation='relu'))\n",
    "model.add(MaxPooling3D(pool_size=2))\n",
    "\n",
    "model.add(Flatten())\n",
    "model.add(Dense(256, activation='relu'))\n",
    "model.add(Dense(5, activation='softmax'))\n",
    "\n",
    "# Total params: 25,749,637, Trainable params: 25,749,637, Non-trainable params: 0"
   ]
  },
  {
   "cell_type": "code",
   "execution_count": 24,
   "metadata": {
    "id": "9oH8iCvAKzsY"
   },
   "outputs": [],
   "source": [
    "# creating the `train_generator` and the `val_generator` which is used in `.fit_generator`.\n",
    "\n",
    "train_generator = generator(train_path, train_doc, batch_size)\n",
    "val_generator = generator(val_path, val_doc, batch_size)\n",
    "\n",
    "\n",
    "model_name = 'model_init' + '_' + str(curr_dt_time).replace(' ','').replace(':','_') + '/'\n",
    "    \n",
    "if not os.path.exists(model_name):\n",
    "    os.mkdir(model_name)\n",
    "        \n",
    "filepath = model_name + 'model-{epoch:05d}-{loss:.5f}-{categorical_accuracy:.5f}-{val_loss:.5f}-{val_categorical_accuracy:.5f}.h5'\n",
    "\n",
    "checkpoint = ModelCheckpoint(filepath, monitor='val_loss', verbose=1, save_best_only=True, save_weights_only=False, mode='auto', save_freq='epoch')\n",
    "\n",
    "LR =ReduceLROnPlateau(monitor='val_loss', factor=0.2, verbose=1, patience=4) # write the REducelronplateau code here\n",
    "\n",
    "earlystop = EarlyStopping( monitor=\"val_loss\", min_delta=0,patience=10,verbose=1)\n",
    "\n",
    "callbacks_list = [checkpoint, LR, earlystop]\n",
    "\n",
    "if (num_train_sequences%batch_size) == 0:\n",
    "    steps_per_epoch = int(num_train_sequences/batch_size)\n",
    "    \n",
    "else:\n",
    "    steps_per_epoch = (num_train_sequences//batch_size) + 1\n",
    "\n",
    "if (num_val_sequences%batch_size) == 0:\n",
    "    validation_steps = int(num_val_sequences/batch_size)\n",
    "    \n",
    "else:\n",
    "    validation_steps = (num_val_sequences//batch_size) + 1\n",
    "\n"
   ]
  },
  {
   "cell_type": "markdown",
   "metadata": {
    "id": "apCFn4NmAAPw"
   },
   "source": [
    "1. Once a model is created, next step is to `compile` the model.\n",
    "2. In the `summary` of the model, we will see the total number of parameters to train the model.\n",
    "2. Creating the `train_generator` and the `val_generator` which will be used in `.fit_generator`.\n",
    "3. `steps_per_epoch` and `validation_steps` are used by `fit_generator` to decide the number of next() calls it need to make.\n",
    "\n",
    "These steps are going to be same for all the model."
   ]
  },
  {
   "cell_type": "code",
   "execution_count": 25,
   "metadata": {
    "colab": {
     "base_uri": "https://localhost:8080/"
    },
    "id": "esrQdvwxLOTg",
    "outputId": "d41b7f0e-850e-4ccd-ce88-258a4b7e1c25"
   },
   "outputs": [
    {
     "name": "stdout",
     "output_type": "stream",
     "text": [
      "Model: \"sequential\"\n",
      "_________________________________________________________________\n",
      " Layer (type)                Output Shape              Param #   \n",
      "=================================================================\n",
      " conv3d (Conv3D)             (None, 14, 118, 118, 32)  2624      \n",
      "                                                                 \n",
      " conv3d_1 (Conv3D)           (None, 12, 116, 116, 64)  55360     \n",
      "                                                                 \n",
      " max_pooling3d (MaxPooling3D  (None, 6, 58, 58, 64)    0         \n",
      " )                                                               \n",
      "                                                                 \n",
      " batch_normalization (BatchN  (None, 6, 58, 58, 64)    256       \n",
      " ormalization)                                                   \n",
      "                                                                 \n",
      " dropout (Dropout)           (None, 6, 58, 58, 64)     0         \n",
      "                                                                 \n",
      " conv3d_2 (Conv3D)           (None, 4, 56, 56, 128)    221312    \n",
      "                                                                 \n",
      " max_pooling3d_1 (MaxPooling  (None, 4, 28, 28, 128)   0         \n",
      " 3D)                                                             \n",
      "                                                                 \n",
      " batch_normalization_1 (Batc  (None, 4, 28, 28, 128)   512       \n",
      " hNormalization)                                                 \n",
      "                                                                 \n",
      " dropout_1 (Dropout)         (None, 4, 28, 28, 128)    0         \n",
      "                                                                 \n",
      " conv3d_3 (Conv3D)           (None, 4, 26, 26, 256)    295168    \n",
      "                                                                 \n",
      " max_pooling3d_2 (MaxPooling  (None, 4, 13, 13, 256)   0         \n",
      " 3D)                                                             \n",
      "                                                                 \n",
      " batch_normalization_2 (Batc  (None, 4, 13, 13, 256)   1024      \n",
      " hNormalization)                                                 \n",
      "                                                                 \n",
      " dropout_2 (Dropout)         (None, 4, 13, 13, 256)    0         \n",
      "                                                                 \n",
      " conv3d_4 (Conv3D)           (None, 4, 11, 11, 512)    1180160   \n",
      "                                                                 \n",
      " conv3d_5 (Conv3D)           (None, 4, 9, 9, 512)      2359808   \n",
      "                                                                 \n",
      " max_pooling3d_3 (MaxPooling  (None, 4, 4, 4, 512)     0         \n",
      " 3D)                                                             \n",
      "                                                                 \n",
      " batch_normalization_3 (Batc  (None, 4, 4, 4, 512)     2048      \n",
      " hNormalization)                                                 \n",
      "                                                                 \n",
      " dropout_3 (Dropout)         (None, 4, 4, 4, 512)      0         \n",
      "                                                                 \n",
      " flatten (Flatten)           (None, 32768)             0         \n",
      "                                                                 \n",
      " dense (Dense)               (None, 512)               16777728  \n",
      "                                                                 \n",
      " batch_normalization_4 (Batc  (None, 512)              2048      \n",
      " hNormalization)                                                 \n",
      "                                                                 \n",
      " dense_1 (Dense)             (None, 5)                 2565      \n",
      "                                                                 \n",
      "=================================================================\n",
      "Total params: 20,900,613\n",
      "Trainable params: 20,897,669\n",
      "Non-trainable params: 2,944\n",
      "_________________________________________________________________\n",
      "None\n"
     ]
    }
   ],
   "source": [
    "optimiser =tf.keras.optimizers.Adam() #write your optimizer\n",
    "model.compile(optimizer=optimiser, loss='categorical_crossentropy', metrics=['categorical_accuracy'])\n",
    "print (model.summary())"
   ]
  },
  {
   "cell_type": "code",
   "execution_count": 13,
   "metadata": {
    "colab": {
     "base_uri": "https://localhost:8080/"
    },
    "id": "cQa1YT3fAAPx",
    "outputId": "efa2e90e-080f-463a-92d8-c13821333fc3"
   },
   "outputs": [
    {
     "name": "stdout",
     "output_type": "stream",
     "text": [
      "Source path =  /home/datasets/Project_data/train ; batch size = 40\n",
      "Epoch 1/20\n"
     ]
    },
    {
     "name": "stderr",
     "output_type": "stream",
     "text": [
      "2023-01-12 01:54:14.250633: I tensorflow/stream_executor/cuda/cuda_dnn.cc:377] Loaded cuDNN version 8302\n"
     ]
    },
    {
     "name": "stdout",
     "output_type": "stream",
     "text": [
      "17/17 [==============================] - ETA: 0s - loss: 2.5663 - categorical_accuracy: 0.2099Source path =  /home/datasets/Project_data/val ; batch size = 40\n",
      "\n",
      "Epoch 00001: val_loss improved from inf to 1.28942, saving model to model_init_2023-01-1201_54_08.192592/model-00001-2.56631-0.20991-1.28942-0.21667.h5\n",
      "17/17 [==============================] - 66s 4s/step - loss: 2.5663 - categorical_accuracy: 0.2099 - val_loss: 1.2894 - val_categorical_accuracy: 0.2167 - lr: 0.0010\n",
      "Epoch 2/20\n",
      "17/17 [==============================] - ETA: 0s - loss: 1.3398 - categorical_accuracy: 0.3907\n",
      "Epoch 00002: val_loss improved from 1.28942 to 1.08940, saving model to model_init_2023-01-1201_54_08.192592/model-00002-1.33982-0.39067-1.08940-0.35833.h5\n",
      "17/17 [==============================] - 66s 4s/step - loss: 1.3398 - categorical_accuracy: 0.3907 - val_loss: 1.0894 - val_categorical_accuracy: 0.3583 - lr: 0.0010\n",
      "Epoch 3/20\n",
      "17/17 [==============================] - ETA: 0s - loss: 0.9866 - categorical_accuracy: 0.5729\n",
      "Epoch 00003: val_loss improved from 1.08940 to 0.95344, saving model to model_init_2023-01-1201_54_08.192592/model-00003-0.98660-0.57289-0.95344-0.45000.h5\n",
      "17/17 [==============================] - 62s 4s/step - loss: 0.9866 - categorical_accuracy: 0.5729 - val_loss: 0.9534 - val_categorical_accuracy: 0.4500 - lr: 0.0010\n",
      "Epoch 4/20\n",
      "17/17 [==============================] - ETA: 0s - loss: 0.7095 - categorical_accuracy: 0.7143\n",
      "Epoch 00004: val_loss improved from 0.95344 to 0.82588, saving model to model_init_2023-01-1201_54_08.192592/model-00004-0.70948-0.71429-0.82588-0.57500.h5\n",
      "17/17 [==============================] - 64s 4s/step - loss: 0.7095 - categorical_accuracy: 0.7143 - val_loss: 0.8259 - val_categorical_accuracy: 0.5750 - lr: 0.0010\n",
      "Epoch 5/20\n",
      "17/17 [==============================] - ETA: 0s - loss: 0.4274 - categorical_accuracy: 0.8265\n",
      "Epoch 00005: val_loss did not improve from 0.82588\n",
      "17/17 [==============================] - 63s 4s/step - loss: 0.4274 - categorical_accuracy: 0.8265 - val_loss: 0.8683 - val_categorical_accuracy: 0.5167 - lr: 0.0010\n",
      "Epoch 6/20\n",
      "17/17 [==============================] - ETA: 0s - loss: 0.3286 - categorical_accuracy: 0.8761\n",
      "Epoch 00006: val_loss did not improve from 0.82588\n",
      "17/17 [==============================] - 62s 4s/step - loss: 0.3286 - categorical_accuracy: 0.8761 - val_loss: 1.2955 - val_categorical_accuracy: 0.7083 - lr: 0.0010\n",
      "Epoch 7/20\n",
      "17/17 [==============================] - ETA: 0s - loss: 0.2799 - categorical_accuracy: 0.9155\n",
      "Epoch 00007: val_loss did not improve from 0.82588\n",
      "17/17 [==============================] - 63s 4s/step - loss: 0.2799 - categorical_accuracy: 0.9155 - val_loss: 1.3947 - val_categorical_accuracy: 0.5083 - lr: 0.0010\n",
      "Epoch 8/20\n",
      "17/17 [==============================] - ETA: 0s - loss: 0.9997 - categorical_accuracy: 0.7595\n",
      "Epoch 00008: val_loss did not improve from 0.82588\n",
      "\n",
      "Epoch 00008: ReduceLROnPlateau reducing learning rate to 0.00020000000949949026.\n",
      "17/17 [==============================] - 64s 4s/step - loss: 0.9997 - categorical_accuracy: 0.7595 - val_loss: 1.7114 - val_categorical_accuracy: 0.4083 - lr: 0.0010\n",
      "Epoch 9/20\n",
      "17/17 [==============================] - ETA: 0s - loss: 0.9113 - categorical_accuracy: 0.7755\n",
      "Epoch 00009: val_loss did not improve from 0.82588\n",
      "17/17 [==============================] - 61s 4s/step - loss: 0.9113 - categorical_accuracy: 0.7755 - val_loss: 1.3237 - val_categorical_accuracy: 0.4750 - lr: 2.0000e-04\n",
      "Epoch 10/20\n",
      "17/17 [==============================] - ETA: 0s - loss: 0.4832 - categorical_accuracy: 0.8192\n",
      "Epoch 00010: val_loss did not improve from 0.82588\n",
      "17/17 [==============================] - 63s 4s/step - loss: 0.4832 - categorical_accuracy: 0.8192 - val_loss: 1.1828 - val_categorical_accuracy: 0.5167 - lr: 2.0000e-04\n",
      "Epoch 11/20\n",
      "17/17 [==============================] - ETA: 0s - loss: 0.2529 - categorical_accuracy: 0.8950\n",
      "Epoch 00011: val_loss did not improve from 0.82588\n",
      "17/17 [==============================] - 62s 4s/step - loss: 0.2529 - categorical_accuracy: 0.8950 - val_loss: 1.0223 - val_categorical_accuracy: 0.5667 - lr: 2.0000e-04\n",
      "Epoch 12/20\n",
      "17/17 [==============================] - ETA: 0s - loss: 0.2299 - categorical_accuracy: 0.8878\n",
      "Epoch 00012: val_loss did not improve from 0.82588\n",
      "\n",
      "Epoch 00012: ReduceLROnPlateau reducing learning rate to 4.0000001899898055e-05.\n",
      "17/17 [==============================] - 61s 4s/step - loss: 0.2299 - categorical_accuracy: 0.8878 - val_loss: 1.2517 - val_categorical_accuracy: 0.5417 - lr: 2.0000e-04\n",
      "Epoch 13/20\n",
      "17/17 [==============================] - ETA: 0s - loss: 0.1370 - categorical_accuracy: 0.9111\n",
      "Epoch 00013: val_loss did not improve from 0.82588\n",
      "17/17 [==============================] - 62s 4s/step - loss: 0.1370 - categorical_accuracy: 0.9111 - val_loss: 1.0870 - val_categorical_accuracy: 0.5500 - lr: 4.0000e-05\n",
      "Epoch 14/20\n",
      "17/17 [==============================] - ETA: 0s - loss: 0.1196 - categorical_accuracy: 0.9227\n",
      "Epoch 00014: val_loss did not improve from 0.82588\n",
      "17/17 [==============================] - 63s 4s/step - loss: 0.1196 - categorical_accuracy: 0.9227 - val_loss: 1.0803 - val_categorical_accuracy: 0.5333 - lr: 4.0000e-05\n",
      "Epoch 00014: early stopping\n"
     ]
    }
   ],
   "source": [
    "history=model.fit(train_generator, steps_per_epoch=steps_per_epoch, epochs=num_epochs, verbose=1, \n",
    "                    callbacks=callbacks_list, validation_data=val_generator, \n",
    "                    validation_steps=validation_steps, class_weight=None, workers=1, initial_epoch=0)"
   ]
  },
  {
   "cell_type": "code",
   "execution_count": 14,
   "metadata": {
    "id": "FvMxLdEcNCzl"
   },
   "outputs": [
    {
     "data": {
      "image/png": "[encoded data removed]",
      "text/plain": [
       "<Figure size 1080x288 with 2 Axes>"
      ]
     },
     "metadata": {
      "needs_background": "light"
     },
     "output_type": "display_data"
    }
   ],
   "source": [
    "plot(history)"
   ]
  },
  {
   "cell_type": "markdown",
   "metadata": {},
   "source": [
    "### Model Conclusion\n",
    "\n",
    "#### Model Accuracy on the train set is  92% and on validation set is 53%\n",
    "#### Model is Overfitting"
   ]
  },
  {
   "cell_type": "markdown",
   "metadata": {
    "id": "tCMiw-kFAAPx"
   },
   "source": [
    "### Model 2: Conv3D with BatchNormalization Model\n"
   ]
  },
  {
   "cell_type": "code",
   "execution_count": 15,
   "metadata": {
    "id": "MqK3t5CRAAPx"
   },
   "outputs": [],
   "source": [
    " model = Sequential()\n",
    "\n",
    " model.add(Conv3D(32, kernel_size=3, activation='relu', input_shape=input_shape))\n",
    " model.add(Conv3D(64, kernel_size=3, activation='relu'))\n",
    " model.add(MaxPooling3D(pool_size=(2, 2, 2)))\n",
    " model.add(BatchNormalization())\n",
    "\n",
    " model.add(Conv3D(128, kernel_size=3, activation='relu'))\n",
    " model.add(MaxPooling3D(pool_size=(1, 2, 2)))\n",
    " model.add(BatchNormalization())\n",
    "\n",
    " model.add(Conv3D(256, kernel_size=(1, 3, 3), activation='relu'))\n",
    " model.add(MaxPooling3D(pool_size=(1, 2, 2)))\n",
    " model.add(BatchNormalization())\n",
    " model.add(Conv3D(512, kernel_size=(1, 3, 3), activation='relu'))\n",
    " model.add(Conv3D(512, kernel_size=(1, 3, 3), activation='relu'))\n",
    " model.add(MaxPooling3D(pool_size=(1, 2, 2)))\n",
    " model.add(BatchNormalization())\n",
    "\n",
    " model.add(Flatten())\n",
    " model.add(Dense(512, activation='relu'))\n",
    " model.add(BatchNormalization())\n",
    " model.add(Dense(5, activation='softmax'))\n",
    "    \n",
    " # Total params: 20,900,613,Trainable params: 20,897,669, Non-trainable params: 2,944"
   ]
  },
  {
   "cell_type": "code",
   "execution_count": 16,
   "metadata": {
    "id": "hbyIvTSCNPGZ"
   },
   "outputs": [
    {
     "name": "stdout",
     "output_type": "stream",
     "text": [
      "Model: \"sequential_1\"\n",
      "_________________________________________________________________\n",
      " Layer (type)                Output Shape              Param #   \n",
      "=================================================================\n",
      " conv3d_2 (Conv3D)           (None, 14, 118, 118, 32)  2624      \n",
      "                                                                 \n",
      " conv3d_3 (Conv3D)           (None, 12, 116, 116, 64)  55360     \n",
      "                                                                 \n",
      " max_pooling3d_2 (MaxPooling  (None, 6, 58, 58, 64)    0         \n",
      " 3D)                                                             \n",
      "                                                                 \n",
      " batch_normalization (BatchN  (None, 6, 58, 58, 64)    256       \n",
      " ormalization)                                                   \n",
      "                                                                 \n",
      " conv3d_4 (Conv3D)           (None, 4, 56, 56, 128)    221312    \n",
      "                                                                 \n",
      " max_pooling3d_3 (MaxPooling  (None, 4, 28, 28, 128)   0         \n",
      " 3D)                                                             \n",
      "                                                                 \n",
      " batch_normalization_1 (Batc  (None, 4, 28, 28, 128)   512       \n",
      " hNormalization)                                                 \n",
      "                                                                 \n",
      " conv3d_5 (Conv3D)           (None, 4, 26, 26, 256)    295168    \n",
      "                                                                 \n",
      " max_pooling3d_4 (MaxPooling  (None, 4, 13, 13, 256)   0         \n",
      " 3D)                                                             \n",
      "                                                                 \n",
      " batch_normalization_2 (Batc  (None, 4, 13, 13, 256)   1024      \n",
      " hNormalization)                                                 \n",
      "                                                                 \n",
      " conv3d_6 (Conv3D)           (None, 4, 11, 11, 512)    1180160   \n",
      "                                                                 \n",
      " conv3d_7 (Conv3D)           (None, 4, 9, 9, 512)      2359808   \n",
      "                                                                 \n",
      " max_pooling3d_5 (MaxPooling  (None, 4, 4, 4, 512)     0         \n",
      " 3D)                                                             \n",
      "                                                                 \n",
      " batch_normalization_3 (Batc  (None, 4, 4, 4, 512)     2048      \n",
      " hNormalization)                                                 \n",
      "                                                                 \n",
      " flatten_1 (Flatten)         (None, 32768)             0         \n",
      "                                                                 \n",
      " dense_2 (Dense)             (None, 512)               16777728  \n",
      "                                                                 \n",
      " batch_normalization_4 (Batc  (None, 512)              2048      \n",
      " hNormalization)                                                 \n",
      "                                                                 \n",
      " dense_3 (Dense)             (None, 5)                 2565      \n",
      "                                                                 \n",
      "=================================================================\n",
      "Total params: 20,900,613\n",
      "Trainable params: 20,897,669\n",
      "Non-trainable params: 2,944\n",
      "_________________________________________________________________\n",
      "None\n"
     ]
    }
   ],
   "source": [
    "\n",
    "model_name = 'model_init2' + '_' + str(curr_dt_time).replace(' ','').replace(':','_') + '/'\n",
    "    \n",
    "if not os.path.exists(model_name):\n",
    "    os.mkdir(model_name)\n",
    "        \n",
    "filepath = model_name + 'model-{epoch:05d}-{loss:.5f}-{categorical_accuracy:.5f}-{val_loss:.5f}-{val_categorical_accuracy:.5f}.h5'\n",
    "\n",
    "checkpoint = ModelCheckpoint(filepath, monitor='val_loss', verbose=1, save_best_only=True, save_weights_only=False, mode='auto', save_freq='epoch')\n",
    "\n",
    "LR =ReduceLROnPlateau(monitor='val_loss', factor=0.2, verbose=1, patience=4) # write the REducelronplateau code here\n",
    "earlystop = EarlyStopping( monitor=\"val_loss\", min_delta=0,patience=10,verbose=1)\n",
    "callbacks_list = [checkpoint, LR, earlystop]\n",
    "\n",
    "optimiser =tf.keras.optimizers.Adam() #write your optimizer\n",
    "model.compile(optimizer=optimiser, loss='categorical_crossentropy', metrics=['categorical_accuracy'])\n",
    "print (model.summary())   "
   ]
  },
  {
   "cell_type": "code",
   "execution_count": 17,
   "metadata": {
    "id": "lMGy3jPZAAPy"
   },
   "outputs": [
    {
     "name": "stdout",
     "output_type": "stream",
     "text": [
      "Epoch 1/20\n",
      "17/17 [==============================] - ETA: 0s - loss: 2.5235 - categorical_accuracy: 0.4913\n",
      "Epoch 00001: val_loss improved from inf to 16.52966, saving model to model_init2_2023-01-1201_54_08.192592/model-00001-2.52347-0.49125-16.52966-0.20000.h5\n",
      "17/17 [==============================] - 82s 5s/step - loss: 2.5235 - categorical_accuracy: 0.4913 - val_loss: 16.5297 - val_categorical_accuracy: 0.2000 - lr: 0.0010\n",
      "Epoch 2/20\n",
      "17/17 [==============================] - ETA: 0s - loss: 0.9643 - categorical_accuracy: 0.6064\n",
      "Epoch 00002: val_loss improved from 16.52966 to 3.82273, saving model to model_init2_2023-01-1201_54_08.192592/model-00002-0.96434-0.60641-3.82273-0.19167.h5\n",
      "17/17 [==============================] - 67s 4s/step - loss: 0.9643 - categorical_accuracy: 0.6064 - val_loss: 3.8227 - val_categorical_accuracy: 0.1917 - lr: 0.0010\n",
      "Epoch 3/20\n",
      "17/17 [==============================] - ETA: 0s - loss: 0.5908 - categorical_accuracy: 0.7668\n",
      "Epoch 00003: val_loss did not improve from 3.82273\n",
      "17/17 [==============================] - 63s 4s/step - loss: 0.5908 - categorical_accuracy: 0.7668 - val_loss: 5.4489 - val_categorical_accuracy: 0.1083 - lr: 0.0010\n",
      "Epoch 4/20\n",
      "17/17 [==============================] - ETA: 0s - loss: 0.4121 - categorical_accuracy: 0.8192\n",
      "Epoch 00004: val_loss improved from 3.82273 to 3.11871, saving model to model_init2_2023-01-1201_54_08.192592/model-00004-0.41211-0.81924-3.11871-0.15833.h5\n",
      "17/17 [==============================] - 63s 4s/step - loss: 0.4121 - categorical_accuracy: 0.8192 - val_loss: 3.1187 - val_categorical_accuracy: 0.1583 - lr: 0.0010\n",
      "Epoch 5/20\n",
      "17/17 [==============================] - ETA: 0s - loss: 0.3135 - categorical_accuracy: 0.8980\n",
      "Epoch 00005: val_loss did not improve from 3.11871\n",
      "17/17 [==============================] - 65s 4s/step - loss: 0.3135 - categorical_accuracy: 0.8980 - val_loss: 5.0223 - val_categorical_accuracy: 0.1500 - lr: 0.0010\n",
      "Epoch 6/20\n",
      "17/17 [==============================] - ETA: 0s - loss: 0.5370 - categorical_accuracy: 0.7813\n",
      "Epoch 00006: val_loss improved from 3.11871 to 1.37687, saving model to model_init2_2023-01-1201_54_08.192592/model-00006-0.53699-0.78134-1.37687-0.25833.h5\n",
      "17/17 [==============================] - 64s 4s/step - loss: 0.5370 - categorical_accuracy: 0.7813 - val_loss: 1.3769 - val_categorical_accuracy: 0.2583 - lr: 0.0010\n",
      "Epoch 7/20\n",
      "17/17 [==============================] - ETA: 0s - loss: 0.3038 - categorical_accuracy: 0.8615\n",
      "Epoch 00007: val_loss did not improve from 1.37687\n",
      "17/17 [==============================] - 62s 4s/step - loss: 0.3038 - categorical_accuracy: 0.8615 - val_loss: 3.1968 - val_categorical_accuracy: 0.1417 - lr: 0.0010\n",
      "Epoch 8/20\n",
      "17/17 [==============================] - ETA: 0s - loss: 0.2641 - categorical_accuracy: 0.8863\n",
      "Epoch 00008: val_loss did not improve from 1.37687\n",
      "17/17 [==============================] - 63s 4s/step - loss: 0.2641 - categorical_accuracy: 0.8863 - val_loss: 3.5753 - val_categorical_accuracy: 0.1083 - lr: 0.0010\n",
      "Epoch 9/20\n",
      "17/17 [==============================] - ETA: 0s - loss: 0.2256 - categorical_accuracy: 0.8878\n",
      "Epoch 00009: val_loss did not improve from 1.37687\n",
      "17/17 [==============================] - 63s 4s/step - loss: 0.2256 - categorical_accuracy: 0.8878 - val_loss: 3.3437 - val_categorical_accuracy: 0.1583 - lr: 0.0010\n",
      "Epoch 10/20\n",
      "17/17 [==============================] - ETA: 0s - loss: 0.1996 - categorical_accuracy: 0.9096\n",
      "Epoch 00010: val_loss did not improve from 1.37687\n",
      "\n",
      "Epoch 00010: ReduceLROnPlateau reducing learning rate to 0.00020000000949949026.\n",
      "17/17 [==============================] - 62s 4s/step - loss: 0.1996 - categorical_accuracy: 0.9096 - val_loss: 2.1859 - val_categorical_accuracy: 0.2000 - lr: 0.0010\n",
      "Epoch 11/20\n",
      "17/17 [==============================] - ETA: 0s - loss: 0.1030 - categorical_accuracy: 0.9723\n",
      "Epoch 00011: val_loss did not improve from 1.37687\n",
      "17/17 [==============================] - 62s 4s/step - loss: 0.1030 - categorical_accuracy: 0.9723 - val_loss: 2.1721 - val_categorical_accuracy: 0.2417 - lr: 2.0000e-04\n",
      "Epoch 12/20\n",
      "17/17 [==============================] - ETA: 0s - loss: 0.0570 - categorical_accuracy: 0.9592\n",
      "Epoch 00012: val_loss did not improve from 1.37687\n",
      "17/17 [==============================] - 63s 4s/step - loss: 0.0570 - categorical_accuracy: 0.9592 - val_loss: 2.3937 - val_categorical_accuracy: 0.2583 - lr: 2.0000e-04\n",
      "Epoch 13/20\n",
      "17/17 [==============================] - ETA: 0s - loss: 0.0487 - categorical_accuracy: 0.9563\n",
      "Epoch 00013: val_loss did not improve from 1.37687\n",
      "17/17 [==============================] - 62s 4s/step - loss: 0.0487 - categorical_accuracy: 0.9563 - val_loss: 2.1706 - val_categorical_accuracy: 0.2750 - lr: 2.0000e-04\n",
      "Epoch 14/20\n",
      "17/17 [==============================] - ETA: 0s - loss: 0.0303 - categorical_accuracy: 0.9592\n",
      "Epoch 00014: val_loss did not improve from 1.37687\n",
      "\n",
      "Epoch 00014: ReduceLROnPlateau reducing learning rate to 4.0000001899898055e-05.\n",
      "17/17 [==============================] - 65s 4s/step - loss: 0.0303 - categorical_accuracy: 0.9592 - val_loss: 2.3559 - val_categorical_accuracy: 0.2417 - lr: 2.0000e-04\n",
      "Epoch 15/20\n",
      "17/17 [==============================] - ETA: 0s - loss: 0.0466 - categorical_accuracy: 0.9548\n",
      "Epoch 00015: val_loss did not improve from 1.37687\n",
      "17/17 [==============================] - 62s 4s/step - loss: 0.0466 - categorical_accuracy: 0.9548 - val_loss: 2.2769 - val_categorical_accuracy: 0.2167 - lr: 4.0000e-05\n",
      "Epoch 16/20\n",
      "17/17 [==============================] - ETA: 0s - loss: 0.0391 - categorical_accuracy: 0.9592\n",
      "Epoch 00016: val_loss did not improve from 1.37687\n",
      "17/17 [==============================] - 61s 4s/step - loss: 0.0391 - categorical_accuracy: 0.9592 - val_loss: 2.0539 - val_categorical_accuracy: 0.2750 - lr: 4.0000e-05\n",
      "Epoch 00016: early stopping\n"
     ]
    }
   ],
   "source": [
    "history=model.fit(train_generator, steps_per_epoch=steps_per_epoch, epochs=num_epochs, verbose=1, \n",
    "                    callbacks=callbacks_list, validation_data=val_generator, \n",
    "                    validation_steps=validation_steps, class_weight=None, workers=1, initial_epoch=0)"
   ]
  },
  {
   "cell_type": "code",
   "execution_count": 18,
   "metadata": {},
   "outputs": [
    {
     "data": {
      "image/png": "[encoded data removed]",
      "text/plain": [
       "<Figure size 1080x288 with 2 Axes>"
      ]
     },
     "metadata": {
      "needs_background": "light"
     },
     "output_type": "display_data"
    }
   ],
   "source": [
    "plot(history)"
   ]
  },
  {
   "cell_type": "markdown",
   "metadata": {},
   "source": [
    "### Model Conclusion\n",
    "\n",
    "#### Model Accuracy on the train set is  95% and on validation set is 27%\n",
    "#### Model is Overfitting"
   ]
  },
  {
   "cell_type": "markdown",
   "metadata": {
    "id": "COsmXUPqAAPz"
   },
   "source": [
    "### Model 3: Conv3D with BatchNormalization,Dropout\n"
   ]
  },
  {
   "cell_type": "code",
   "execution_count": 26,
   "metadata": {
    "id": "hvG8vHYuAAPz"
   },
   "outputs": [],
   "source": [
    "model = Sequential()\n",
    "\n",
    "model.add(Conv3D(32, kernel_size=3, activation='relu', input_shape=input_shape))\n",
    "model.add(Conv3D(64, kernel_size=3, activation='relu'))\n",
    "model.add(MaxPooling3D(pool_size=(2, 2, 2)))\n",
    "model.add(BatchNormalization())\n",
    "model.add(Dropout(0.25))\n",
    "\n",
    "model.add(Conv3D(128, kernel_size=3, activation='relu'))\n",
    "model.add(MaxPooling3D(pool_size=(1, 2, 2)))\n",
    "model.add(BatchNormalization())\n",
    "model.add(Dropout(0.25))\n",
    "\n",
    "model.add(Conv3D(256, kernel_size=(1, 3, 3), activation='relu'))\n",
    "model.add(MaxPooling3D(pool_size=(1, 2, 2)))\n",
    "model.add(BatchNormalization())\n",
    "model.add(Dropout(0.25))\n",
    "\n",
    "model.add(Conv3D(512, kernel_size=(1, 3, 3), activation='relu'))\n",
    "model.add(Conv3D(512, kernel_size=(1, 3, 3), activation='relu'))\n",
    "model.add(MaxPooling3D(pool_size=(1, 2, 2)))\n",
    "model.add(BatchNormalization())\n",
    "model.add(Dropout(0.5))\n",
    "\n",
    "model.add(Flatten())\n",
    "model.add(Dense(512, activation='relu'))\n",
    "model.add(BatchNormalization())\n",
    "model.add(Dense(5, activation='softmax'))\n",
    "\n",
    "# Total params: 20,900,613 , Trainable params: 20,897,669, Non-trainable params: 2,944"
   ]
  },
  {
   "cell_type": "code",
   "execution_count": 27,
   "metadata": {
    "id": "omtw4m6Zg3Xf"
   },
   "outputs": [
    {
     "name": "stdout",
     "output_type": "stream",
     "text": [
      "Model: \"sequential_1\"\n",
      "_________________________________________________________________\n",
      " Layer (type)                Output Shape              Param #   \n",
      "=================================================================\n",
      " conv3d_6 (Conv3D)           (None, 14, 118, 118, 32)  2624      \n",
      "                                                                 \n",
      " conv3d_7 (Conv3D)           (None, 12, 116, 116, 64)  55360     \n",
      "                                                                 \n",
      " max_pooling3d_4 (MaxPooling  (None, 6, 58, 58, 64)    0         \n",
      " 3D)                                                             \n",
      "                                                                 \n",
      " batch_normalization_5 (Batc  (None, 6, 58, 58, 64)    256       \n",
      " hNormalization)                                                 \n",
      "                                                                 \n",
      " dropout_4 (Dropout)         (None, 6, 58, 58, 64)     0         \n",
      "                                                                 \n",
      " conv3d_8 (Conv3D)           (None, 4, 56, 56, 128)    221312    \n",
      "                                                                 \n",
      " max_pooling3d_5 (MaxPooling  (None, 4, 28, 28, 128)   0         \n",
      " 3D)                                                             \n",
      "                                                                 \n",
      " batch_normalization_6 (Batc  (None, 4, 28, 28, 128)   512       \n",
      " hNormalization)                                                 \n",
      "                                                                 \n",
      " dropout_5 (Dropout)         (None, 4, 28, 28, 128)    0         \n",
      "                                                                 \n",
      " conv3d_9 (Conv3D)           (None, 4, 26, 26, 256)    295168    \n",
      "                                                                 \n",
      " max_pooling3d_6 (MaxPooling  (None, 4, 13, 13, 256)   0         \n",
      " 3D)                                                             \n",
      "                                                                 \n",
      " batch_normalization_7 (Batc  (None, 4, 13, 13, 256)   1024      \n",
      " hNormalization)                                                 \n",
      "                                                                 \n",
      " dropout_6 (Dropout)         (None, 4, 13, 13, 256)    0         \n",
      "                                                                 \n",
      " conv3d_10 (Conv3D)          (None, 4, 11, 11, 512)    1180160   \n",
      "                                                                 \n",
      " conv3d_11 (Conv3D)          (None, 4, 9, 9, 512)      2359808   \n",
      "                                                                 \n",
      " max_pooling3d_7 (MaxPooling  (None, 4, 4, 4, 512)     0         \n",
      " 3D)                                                             \n",
      "                                                                 \n",
      " batch_normalization_8 (Batc  (None, 4, 4, 4, 512)     2048      \n",
      " hNormalization)                                                 \n",
      "                                                                 \n",
      " dropout_7 (Dropout)         (None, 4, 4, 4, 512)      0         \n",
      "                                                                 \n",
      " flatten_1 (Flatten)         (None, 32768)             0         \n",
      "                                                                 \n",
      " dense_2 (Dense)             (None, 512)               16777728  \n",
      "                                                                 \n",
      " batch_normalization_9 (Batc  (None, 512)              2048      \n",
      " hNormalization)                                                 \n",
      "                                                                 \n",
      " dense_3 (Dense)             (None, 5)                 2565      \n",
      "                                                                 \n",
      "=================================================================\n",
      "Total params: 20,900,613\n",
      "Trainable params: 20,897,669\n",
      "Non-trainable params: 2,944\n",
      "_________________________________________________________________\n",
      "None\n"
     ]
    }
   ],
   "source": [
    "\n",
    "model_name = 'model_init3' + '_' + str(curr_dt_time).replace(' ','').replace(':','_') + '/'\n",
    "    \n",
    "if not os.path.exists(model_name):\n",
    "   os.mkdir(model_name)\n",
    "        \n",
    "filepath = model_name + 'model-{epoch:05d}-{loss:.5f}-{categorical_accuracy:.5f}-{val_loss:.5f}-{val_categorical_accuracy:.5f}.h5'\n",
    "\n",
    "checkpoint = ModelCheckpoint(filepath, monitor='val_loss', verbose=1, save_best_only=True, save_weights_only=False, mode='auto', save_freq='epoch')\n",
    "\n",
    "LR =ReduceLROnPlateau(monitor='val_loss', factor=0.2, verbose=1, patience=4) # write the REducelronplateau code here\n",
    "\n",
    "earlystop = EarlyStopping( monitor=\"val_loss\", min_delta=0,patience=10,verbose=1)\n",
    "\n",
    "callbacks_list = [checkpoint, LR, earlystop]\n",
    "\n",
    "optimiser =tf.keras.optimizers.Adam() #write your optimizer\n",
    "model.compile(optimizer=optimiser, loss='categorical_crossentropy', metrics=['categorical_accuracy'])\n",
    "print (model.summary()) "
   ]
  },
  {
   "cell_type": "code",
   "execution_count": 28,
   "metadata": {
    "id": "MQdCRAegAAP0"
   },
   "outputs": [
    {
     "name": "stdout",
     "output_type": "stream",
     "text": [
      "Source path =  /home/datasets/Project_data/train ; batch size = 40\n",
      "Epoch 1/20\n"
     ]
    },
    {
     "name": "stderr",
     "output_type": "stream",
     "text": [
      "2023-01-12 07:24:30.784089: I tensorflow/stream_executor/cuda/cuda_dnn.cc:377] Loaded cuDNN version 8302\n"
     ]
    },
    {
     "name": "stdout",
     "output_type": "stream",
     "text": [
      "17/17 [==============================] - ETA: 0s - loss: 2.2288 - categorical_accuracy: 0.4125Source path =  /home/datasets/Project_data/val ; batch size = 40\n",
      "\n",
      "Epoch 00001: val_loss improved from inf to 4.39572, saving model to model_init3_2023-01-1207_22_50.672875/model-00001-2.22879-0.41254-4.39572-0.24167.h5\n",
      "17/17 [==============================] - 89s 5s/step - loss: 2.2288 - categorical_accuracy: 0.4125 - val_loss: 4.3957 - val_categorical_accuracy: 0.2417 - lr: 0.0010\n",
      "Epoch 2/20\n",
      "17/17 [==============================] - ETA: 0s - loss: 1.0101 - categorical_accuracy: 0.5816\n",
      "Epoch 00002: val_loss improved from 4.39572 to 2.32434, saving model to model_init3_2023-01-1207_22_50.672875/model-00002-1.01011-0.58163-2.32434-0.15000.h5\n",
      "17/17 [==============================] - 71s 4s/step - loss: 1.0101 - categorical_accuracy: 0.5816 - val_loss: 2.3243 - val_categorical_accuracy: 0.1500 - lr: 0.0010\n",
      "Epoch 3/20\n",
      "17/17 [==============================] - ETA: 0s - loss: 0.7847 - categorical_accuracy: 0.7055\n",
      "Epoch 00003: val_loss did not improve from 2.32434\n",
      "17/17 [==============================] - 63s 4s/step - loss: 0.7847 - categorical_accuracy: 0.7055 - val_loss: 2.8796 - val_categorical_accuracy: 0.1917 - lr: 0.0010\n",
      "Epoch 4/20\n",
      "17/17 [==============================] - ETA: 0s - loss: 0.6285 - categorical_accuracy: 0.7507\n",
      "Epoch 00004: val_loss improved from 2.32434 to 2.29520, saving model to model_init3_2023-01-1207_22_50.672875/model-00004-0.62852-0.75073-2.29520-0.21667.h5\n",
      "17/17 [==============================] - 65s 4s/step - loss: 0.6285 - categorical_accuracy: 0.7507 - val_loss: 2.2952 - val_categorical_accuracy: 0.2167 - lr: 0.0010\n",
      "Epoch 5/20\n",
      "17/17 [==============================] - ETA: 0s - loss: 0.4343 - categorical_accuracy: 0.8265\n",
      "Epoch 00005: val_loss did not improve from 2.29520\n",
      "17/17 [==============================] - 64s 4s/step - loss: 0.4343 - categorical_accuracy: 0.8265 - val_loss: 2.3024 - val_categorical_accuracy: 0.1833 - lr: 0.0010\n",
      "Epoch 6/20\n",
      "17/17 [==============================] - ETA: 0s - loss: 0.3737 - categorical_accuracy: 0.8397\n",
      "Epoch 00006: val_loss improved from 2.29520 to 2.22230, saving model to model_init3_2023-01-1207_22_50.672875/model-00006-0.37370-0.83965-2.22230-0.19167.h5\n",
      "17/17 [==============================] - 63s 4s/step - loss: 0.3737 - categorical_accuracy: 0.8397 - val_loss: 2.2223 - val_categorical_accuracy: 0.1917 - lr: 0.0010\n",
      "Epoch 7/20\n",
      "17/17 [==============================] - ETA: 0s - loss: 0.4575 - categorical_accuracy: 0.8017\n",
      "Epoch 00007: val_loss did not improve from 2.22230\n",
      "17/17 [==============================] - 64s 4s/step - loss: 0.4575 - categorical_accuracy: 0.8017 - val_loss: 3.6092 - val_categorical_accuracy: 0.1833 - lr: 0.0010\n",
      "Epoch 8/20\n",
      "17/17 [==============================] - ETA: 0s - loss: 0.3696 - categorical_accuracy: 0.8615\n",
      "Epoch 00008: val_loss improved from 2.22230 to 2.21611, saving model to model_init3_2023-01-1207_22_50.672875/model-00008-0.36957-0.86152-2.21611-0.16667.h5\n",
      "17/17 [==============================] - 65s 4s/step - loss: 0.3696 - categorical_accuracy: 0.8615 - val_loss: 2.2161 - val_categorical_accuracy: 0.1667 - lr: 0.0010\n",
      "Epoch 9/20\n",
      "17/17 [==============================] - ETA: 0s - loss: 0.2993 - categorical_accuracy: 0.8615\n",
      "Epoch 00009: val_loss did not improve from 2.21611\n",
      "17/17 [==============================] - 63s 4s/step - loss: 0.2993 - categorical_accuracy: 0.8615 - val_loss: 3.1558 - val_categorical_accuracy: 0.2583 - lr: 0.0010\n",
      "Epoch 10/20\n",
      "17/17 [==============================] - ETA: 0s - loss: 0.2168 - categorical_accuracy: 0.8907\n",
      "Epoch 00010: val_loss did not improve from 2.21611\n",
      "17/17 [==============================] - 64s 4s/step - loss: 0.2168 - categorical_accuracy: 0.8907 - val_loss: 2.5216 - val_categorical_accuracy: 0.2167 - lr: 0.0010\n",
      "Epoch 11/20\n",
      "17/17 [==============================] - ETA: 0s - loss: 0.2234 - categorical_accuracy: 0.8834\n",
      "Epoch 00011: val_loss did not improve from 2.21611\n",
      "17/17 [==============================] - 63s 4s/step - loss: 0.2234 - categorical_accuracy: 0.8834 - val_loss: 3.1682 - val_categorical_accuracy: 0.1833 - lr: 0.0010\n",
      "Epoch 12/20\n",
      "17/17 [==============================] - ETA: 0s - loss: 0.2147 - categorical_accuracy: 0.8907\n",
      "Epoch 00012: val_loss did not improve from 2.21611\n",
      "\n",
      "Epoch 00012: ReduceLROnPlateau reducing learning rate to 0.00020000000949949026.\n",
      "17/17 [==============================] - 62s 4s/step - loss: 0.2147 - categorical_accuracy: 0.8907 - val_loss: 3.1845 - val_categorical_accuracy: 0.2250 - lr: 0.0010\n",
      "Epoch 13/20\n",
      "17/17 [==============================] - ETA: 0s - loss: 0.0890 - categorical_accuracy: 0.9446\n",
      "Epoch 00013: val_loss did not improve from 2.21611\n",
      "17/17 [==============================] - 63s 4s/step - loss: 0.0890 - categorical_accuracy: 0.9446 - val_loss: 2.4867 - val_categorical_accuracy: 0.3083 - lr: 2.0000e-04\n",
      "Epoch 14/20\n",
      "17/17 [==============================] - ETA: 0s - loss: 0.0909 - categorical_accuracy: 0.9461\n",
      "Epoch 00014: val_loss did not improve from 2.21611\n",
      "17/17 [==============================] - 64s 4s/step - loss: 0.0909 - categorical_accuracy: 0.9461 - val_loss: 2.8614 - val_categorical_accuracy: 0.2083 - lr: 2.0000e-04\n",
      "Epoch 15/20\n",
      "17/17 [==============================] - ETA: 0s - loss: 0.0607 - categorical_accuracy: 0.9636\n",
      "Epoch 00015: val_loss improved from 2.21611 to 2.16202, saving model to model_init3_2023-01-1207_22_50.672875/model-00015-0.06071-0.96356-2.16202-0.28333.h5\n",
      "17/17 [==============================] - 62s 4s/step - loss: 0.0607 - categorical_accuracy: 0.9636 - val_loss: 2.1620 - val_categorical_accuracy: 0.2833 - lr: 2.0000e-04\n",
      "Epoch 16/20\n",
      "17/17 [==============================] - ETA: 0s - loss: 0.0502 - categorical_accuracy: 0.9694\n",
      "Epoch 00016: val_loss improved from 2.16202 to 2.13073, saving model to model_init3_2023-01-1207_22_50.672875/model-00016-0.05023-0.96939-2.13073-0.33333.h5\n",
      "17/17 [==============================] - 63s 4s/step - loss: 0.0502 - categorical_accuracy: 0.9694 - val_loss: 2.1307 - val_categorical_accuracy: 0.3333 - lr: 2.0000e-04\n",
      "Epoch 17/20\n",
      "17/17 [==============================] - ETA: 0s - loss: 0.0377 - categorical_accuracy: 0.9665\n",
      "Epoch 00017: val_loss improved from 2.13073 to 1.94354, saving model to model_init3_2023-01-1207_22_50.672875/model-00017-0.03772-0.96647-1.94354-0.31667.h5\n",
      "17/17 [==============================] - 64s 4s/step - loss: 0.0377 - categorical_accuracy: 0.9665 - val_loss: 1.9435 - val_categorical_accuracy: 0.3167 - lr: 2.0000e-04\n",
      "Epoch 18/20\n",
      "17/17 [==============================] - ETA: 0s - loss: 0.0436 - categorical_accuracy: 0.9577\n",
      "Epoch 00018: val_loss did not improve from 1.94354\n",
      "17/17 [==============================] - 63s 4s/step - loss: 0.0436 - categorical_accuracy: 0.9577 - val_loss: 2.2687 - val_categorical_accuracy: 0.2500 - lr: 2.0000e-04\n",
      "Epoch 19/20\n",
      "17/17 [==============================] - ETA: 0s - loss: 0.0502 - categorical_accuracy: 0.9650\n",
      "Epoch 00019: val_loss did not improve from 1.94354\n",
      "17/17 [==============================] - 65s 4s/step - loss: 0.0502 - categorical_accuracy: 0.9650 - val_loss: 2.0679 - val_categorical_accuracy: 0.3083 - lr: 2.0000e-04\n",
      "Epoch 20/20\n",
      "17/17 [==============================] - ETA: 0s - loss: 0.0315 - categorical_accuracy: 0.9738\n",
      "Epoch 00020: val_loss improved from 1.94354 to 1.80813, saving model to model_init3_2023-01-1207_22_50.672875/model-00020-0.03152-0.97376-1.80813-0.32500.h5\n",
      "17/17 [==============================] - 63s 4s/step - loss: 0.0315 - categorical_accuracy: 0.9738 - val_loss: 1.8081 - val_categorical_accuracy: 0.3250 - lr: 2.0000e-04\n"
     ]
    }
   ],
   "source": [
    "history=model.fit(train_generator, steps_per_epoch=steps_per_epoch, epochs=num_epochs, verbose=1, \n",
    "                   callbacks=callbacks_list, validation_data=val_generator, \n",
    "                   validation_steps=validation_steps, class_weight=None, workers=1, initial_epoch=0)"
   ]
  },
  {
   "cell_type": "code",
   "execution_count": 29,
   "metadata": {
    "id": "XVgHyysFhIsd"
   },
   "outputs": [
    {
     "data": {
      "image/png": "[encoded data removed]",
      "text/plain": [
       "<Figure size 1080x288 with 2 Axes>"
      ]
     },
     "metadata": {
      "needs_background": "light"
     },
     "output_type": "display_data"
    }
   ],
   "source": [
    "plot(history)"
   ]
  },
  {
   "cell_type": "markdown",
   "metadata": {},
   "source": [
    "### Model Conclusion\n",
    "\n",
    "#### Model Accuracy on the train set is  97% and on validation set is 32%\n",
    "#### Model is Overfitting"
   ]
  },
  {
   "cell_type": "markdown",
   "metadata": {},
   "source": [
    "### LSTM MODELS"
   ]
  },
  {
   "cell_type": "markdown",
   "metadata": {
    "id": "TcoKkxjXAAP2"
   },
   "source": [
    "### Model 4: Conv 2D + LSTM\n"
   ]
  },
  {
   "cell_type": "code",
   "execution_count": 30,
   "metadata": {
    "id": "dVY_B7KiAAP2"
   },
   "outputs": [],
   "source": [
    "model = Sequential()\n",
    "model.add(TimeDistributed(Conv2D(32, (3,3), activation='relu'), input_shape=input_shape))\n",
    "model.add(TimeDistributed(MaxPooling2D((2,2))))\n",
    "model.add(BatchNormalization())\n",
    "model.add(Dropout(0.25))\n",
    "\n",
    "model.add(TimeDistributed(Conv2D(64, (3,3), activation='relu')))\n",
    "model.add(TimeDistributed(MaxPooling2D((2,2))))\n",
    "model.add(BatchNormalization())\n",
    "model.add(Dropout(0.25))\n",
    "\n",
    "model.add(TimeDistributed(GlobalAveragePooling2D()))\n",
    "model.add(TimeDistributed(Dense(64, activation='relu')))\n",
    "model.add(BatchNormalization())\n",
    "model.add(Dropout(0.25))\n",
    "\n",
    "model.add(LSTM(128))\n",
    "model.add(BatchNormalization())\n",
    "model.add(Dense(5, activation='softmax'))\n",
    "\n",
    "#Total params: 124,165, Trainable params: 123,589, Non-trainable params: 576\n"
   ]
  },
  {
   "cell_type": "code",
   "execution_count": 31,
   "metadata": {
    "id": "1tOEtt3-hbi-"
   },
   "outputs": [
    {
     "name": "stdout",
     "output_type": "stream",
     "text": [
      "Model: \"sequential_2\"\n",
      "_________________________________________________________________\n",
      " Layer (type)                Output Shape              Param #   \n",
      "=================================================================\n",
      " time_distributed (TimeDistr  (None, 16, 118, 118, 32)  896      \n",
      " ibuted)                                                         \n",
      "                                                                 \n",
      " time_distributed_1 (TimeDis  (None, 16, 59, 59, 32)   0         \n",
      " tributed)                                                       \n",
      "                                                                 \n",
      " batch_normalization_10 (Bat  (None, 16, 59, 59, 32)   128       \n",
      " chNormalization)                                                \n",
      "                                                                 \n",
      " dropout_8 (Dropout)         (None, 16, 59, 59, 32)    0         \n",
      "                                                                 \n",
      " time_distributed_2 (TimeDis  (None, 16, 57, 57, 64)   18496     \n",
      " tributed)                                                       \n",
      "                                                                 \n",
      " time_distributed_3 (TimeDis  (None, 16, 28, 28, 64)   0         \n",
      " tributed)                                                       \n",
      "                                                                 \n",
      " batch_normalization_11 (Bat  (None, 16, 28, 28, 64)   256       \n",
      " chNormalization)                                                \n",
      "                                                                 \n",
      " dropout_9 (Dropout)         (None, 16, 28, 28, 64)    0         \n",
      "                                                                 \n",
      " time_distributed_4 (TimeDis  (None, 16, 64)           0         \n",
      " tributed)                                                       \n",
      "                                                                 \n",
      " time_distributed_5 (TimeDis  (None, 16, 64)           4160      \n",
      " tributed)                                                       \n",
      "                                                                 \n",
      " batch_normalization_12 (Bat  (None, 16, 64)           256       \n",
      " chNormalization)                                                \n",
      "                                                                 \n",
      " dropout_10 (Dropout)        (None, 16, 64)            0         \n",
      "                                                                 \n",
      " lstm (LSTM)                 (None, 128)               98816     \n",
      "                                                                 \n",
      " batch_normalization_13 (Bat  (None, 128)              512       \n",
      " chNormalization)                                                \n",
      "                                                                 \n",
      " dense_5 (Dense)             (None, 5)                 645       \n",
      "                                                                 \n",
      "=================================================================\n",
      "Total params: 124,165\n",
      "Trainable params: 123,589\n",
      "Non-trainable params: 576\n",
      "_________________________________________________________________\n",
      "None\n"
     ]
    }
   ],
   "source": [
    "\n",
    "model_name = 'model_init4' + '_' + str(curr_dt_time).replace(' ','').replace(':','_') + '/'\n",
    "    \n",
    "if not os.path.exists(model_name):\n",
    "    os.mkdir(model_name)\n",
    "        \n",
    "filepath = model_name + 'model-{epoch:05d}-{loss:.5f}-{categorical_accuracy:.5f}-{val_loss:.5f}-{val_categorical_accuracy:.5f}.h5'\n",
    "\n",
    "checkpoint = ModelCheckpoint(filepath, monitor='val_loss', verbose=1, save_best_only=True, save_weights_only=False, mode='auto', save_freq='epoch')\n",
    "\n",
    "LR =ReduceLROnPlateau(monitor='val_loss', factor=0.2, verbose=1, patience=4) # write the REducelronplateau code here\n",
    "\n",
    "earlystop = EarlyStopping( monitor=\"val_loss\", min_delta=0,patience=10,verbose=1)\n",
    "\n",
    "callbacks_list = [checkpoint, LR, earlystop]\n",
    "\n",
    "optimiser =tf.keras.optimizers.Adam() #write your optimizer\n",
    "model.compile(optimizer=optimiser, loss='categorical_crossentropy', metrics=['categorical_accuracy'])\n",
    "print (model.summary()) "
   ]
  },
  {
   "cell_type": "code",
   "execution_count": 32,
   "metadata": {
    "id": "B_mKuNNLAAP2"
   },
   "outputs": [
    {
     "name": "stdout",
     "output_type": "stream",
     "text": [
      "Epoch 1/20\n",
      "17/17 [==============================] - ETA: 0s - loss: 1.5189 - categorical_accuracy: 0.3907\n",
      "Epoch 00001: val_loss improved from inf to 1.33425, saving model to model_init4_2023-01-1207_22_50.672875/model-00001-1.51892-0.39067-1.33425-0.18333.h5\n",
      "17/17 [==============================] - 64s 4s/step - loss: 1.5189 - categorical_accuracy: 0.3907 - val_loss: 1.3343 - val_categorical_accuracy: 0.1833 - lr: 0.0010\n",
      "Epoch 2/20\n",
      "17/17 [==============================] - ETA: 0s - loss: 1.1118 - categorical_accuracy: 0.4810\n",
      "Epoch 00002: val_loss improved from 1.33425 to 1.33346, saving model to model_init4_2023-01-1207_22_50.672875/model-00002-1.11176-0.48105-1.33346-0.20833.h5\n",
      "17/17 [==============================] - 62s 4s/step - loss: 1.1118 - categorical_accuracy: 0.4810 - val_loss: 1.3335 - val_categorical_accuracy: 0.2083 - lr: 0.0010\n",
      "Epoch 3/20\n",
      "17/17 [==============================] - ETA: 0s - loss: 0.9098 - categorical_accuracy: 0.5962\n",
      "Epoch 00003: val_loss improved from 1.33346 to 1.32636, saving model to model_init4_2023-01-1207_22_50.672875/model-00003-0.90984-0.59621-1.32636-0.23333.h5\n",
      "17/17 [==============================] - 62s 4s/step - loss: 0.9098 - categorical_accuracy: 0.5962 - val_loss: 1.3264 - val_categorical_accuracy: 0.2333 - lr: 0.0010\n",
      "Epoch 4/20\n",
      "17/17 [==============================] - ETA: 0s - loss: 0.8810 - categorical_accuracy: 0.6181\n",
      "Epoch 00004: val_loss did not improve from 1.32636\n",
      "17/17 [==============================] - 61s 4s/step - loss: 0.8810 - categorical_accuracy: 0.6181 - val_loss: 1.3377 - val_categorical_accuracy: 0.1750 - lr: 0.0010\n",
      "Epoch 5/20\n",
      "17/17 [==============================] - ETA: 0s - loss: 0.7403 - categorical_accuracy: 0.6851\n",
      "Epoch 00005: val_loss improved from 1.32636 to 1.32119, saving model to model_init4_2023-01-1207_22_50.672875/model-00005-0.74033-0.68513-1.32119-0.25833.h5\n",
      "17/17 [==============================] - 61s 4s/step - loss: 0.7403 - categorical_accuracy: 0.6851 - val_loss: 1.3212 - val_categorical_accuracy: 0.2583 - lr: 0.0010\n",
      "Epoch 6/20\n",
      "17/17 [==============================] - ETA: 0s - loss: 0.7259 - categorical_accuracy: 0.6953\n",
      "Epoch 00006: val_loss did not improve from 1.32119\n",
      "17/17 [==============================] - 63s 4s/step - loss: 0.7259 - categorical_accuracy: 0.6953 - val_loss: 1.3988 - val_categorical_accuracy: 0.1667 - lr: 0.0010\n",
      "Epoch 7/20\n",
      "17/17 [==============================] - ETA: 0s - loss: 0.6390 - categorical_accuracy: 0.7289\n",
      "Epoch 00007: val_loss did not improve from 1.32119\n",
      "17/17 [==============================] - 62s 4s/step - loss: 0.6390 - categorical_accuracy: 0.7289 - val_loss: 1.3745 - val_categorical_accuracy: 0.1750 - lr: 0.0010\n",
      "Epoch 8/20\n",
      "17/17 [==============================] - ETA: 0s - loss: 0.5681 - categorical_accuracy: 0.7493\n",
      "Epoch 00008: val_loss did not improve from 1.32119\n",
      "17/17 [==============================] - 64s 4s/step - loss: 0.5681 - categorical_accuracy: 0.7493 - val_loss: 1.3363 - val_categorical_accuracy: 0.1750 - lr: 0.0010\n",
      "Epoch 9/20\n",
      "17/17 [==============================] - ETA: 0s - loss: 0.5783 - categorical_accuracy: 0.7434\n",
      "Epoch 00009: val_loss did not improve from 1.32119\n",
      "\n",
      "Epoch 00009: ReduceLROnPlateau reducing learning rate to 0.00020000000949949026.\n",
      "17/17 [==============================] - 62s 4s/step - loss: 0.5783 - categorical_accuracy: 0.7434 - val_loss: 1.5451 - val_categorical_accuracy: 0.2167 - lr: 0.0010\n",
      "Epoch 10/20\n",
      "17/17 [==============================] - ETA: 0s - loss: 0.5082 - categorical_accuracy: 0.8149\n",
      "Epoch 00010: val_loss did not improve from 1.32119\n",
      "17/17 [==============================] - 61s 4s/step - loss: 0.5082 - categorical_accuracy: 0.8149 - val_loss: 1.5102 - val_categorical_accuracy: 0.1583 - lr: 2.0000e-04\n",
      "Epoch 11/20\n",
      "17/17 [==============================] - ETA: 0s - loss: 0.4257 - categorical_accuracy: 0.8294\n",
      "Epoch 00011: val_loss did not improve from 1.32119\n",
      "17/17 [==============================] - 64s 4s/step - loss: 0.4257 - categorical_accuracy: 0.8294 - val_loss: 1.5858 - val_categorical_accuracy: 0.1750 - lr: 2.0000e-04\n",
      "Epoch 12/20\n",
      "17/17 [==============================] - ETA: 0s - loss: 0.4114 - categorical_accuracy: 0.8397\n",
      "Epoch 00012: val_loss did not improve from 1.32119\n",
      "17/17 [==============================] - 63s 4s/step - loss: 0.4114 - categorical_accuracy: 0.8397 - val_loss: 1.6038 - val_categorical_accuracy: 0.2000 - lr: 2.0000e-04\n",
      "Epoch 13/20\n",
      "17/17 [==============================] - ETA: 0s - loss: 0.3743 - categorical_accuracy: 0.8528\n",
      "Epoch 00013: val_loss did not improve from 1.32119\n",
      "\n",
      "Epoch 00013: ReduceLROnPlateau reducing learning rate to 4.0000001899898055e-05.\n",
      "17/17 [==============================] - 61s 4s/step - loss: 0.3743 - categorical_accuracy: 0.8528 - val_loss: 1.7058 - val_categorical_accuracy: 0.1750 - lr: 2.0000e-04\n",
      "Epoch 14/20\n",
      "17/17 [==============================] - ETA: 0s - loss: 0.3879 - categorical_accuracy: 0.8411\n",
      "Epoch 00014: val_loss did not improve from 1.32119\n",
      "17/17 [==============================] - 62s 4s/step - loss: 0.3879 - categorical_accuracy: 0.8411 - val_loss: 1.7197 - val_categorical_accuracy: 0.1750 - lr: 4.0000e-05\n",
      "Epoch 15/20\n",
      "17/17 [==============================] - ETA: 0s - loss: 0.3660 - categorical_accuracy: 0.8644\n",
      "Epoch 00015: val_loss did not improve from 1.32119\n",
      "17/17 [==============================] - 63s 4s/step - loss: 0.3660 - categorical_accuracy: 0.8644 - val_loss: 1.7622 - val_categorical_accuracy: 0.1917 - lr: 4.0000e-05\n",
      "Epoch 00015: early stopping\n"
     ]
    }
   ],
   "source": [
    " history=model.fit(train_generator, steps_per_epoch=steps_per_epoch, epochs=num_epochs, verbose=1, \n",
    "                    callbacks=callbacks_list, validation_data=val_generator, \n",
    "                    validation_steps=validation_steps, class_weight=None, workers=1, initial_epoch=0)"
   ]
  },
  {
   "cell_type": "code",
   "execution_count": 33,
   "metadata": {
    "id": "vyxBpsGMAAP3"
   },
   "outputs": [
    {
     "data": {
      "image/png": "[encoded data removed]",
      "text/plain": [
       "<Figure size 1080x288 with 2 Axes>"
      ]
     },
     "metadata": {
      "needs_background": "light"
     },
     "output_type": "display_data"
    }
   ],
   "source": [
    "plot(history)"
   ]
  },
  {
   "cell_type": "markdown",
   "metadata": {},
   "source": [
    "### Model Conclusion\n",
    "\n",
    "#### Model Accuracy on the train set is  86% and on validation set is 19%\n",
    "#### Model is Overfitting"
   ]
  },
  {
   "cell_type": "markdown",
   "metadata": {
    "id": "GgzywbamAAP3"
   },
   "source": [
    "### Model 5: Conv2D + GRU\n"
   ]
  },
  {
   "cell_type": "code",
   "execution_count": 34,
   "metadata": {
    "id": "k_SCW-lKAAP4"
   },
   "outputs": [],
   "source": [
    " model = Sequential()\n",
    " model.add(TimeDistributed(Conv2D(32, (3,3), activation='relu'), input_shape=input_shape))\n",
    " model.add(TimeDistributed(MaxPooling2D((2,2))))\n",
    " model.add(BatchNormalization())\n",
    " model.add(Dropout(0.2))\n",
    "\n",
    " model.add(TimeDistributed(Conv2D(64, (3,3), activation='relu')))\n",
    " model.add(TimeDistributed(MaxPooling2D((2,2))))\n",
    " model.add(BatchNormalization())\n",
    " model.add(Dropout(0.2))\n",
    "\n",
    " model.add(TimeDistributed(GlobalAveragePooling2D()))\n",
    " model.add(TimeDistributed(Dense(64, activation='relu')))\n",
    " model.add(BatchNormalization())\n",
    " model.add(Dropout(0.2))\n",
    "\n",
    " model.add(GRU(128))\n",
    " model.add(BatchNormalization())\n",
    " model.add(Dense(5, activation='softmax'))\n",
    "\n",
    "# Total params: 99,845, Trainable params: 99,269, Non-trainable params: 576\n"
   ]
  },
  {
   "cell_type": "code",
   "execution_count": 35,
   "metadata": {
    "id": "gk_OFqcch4N0"
   },
   "outputs": [
    {
     "name": "stdout",
     "output_type": "stream",
     "text": [
      "Model: \"sequential_3\"\n",
      "_________________________________________________________________\n",
      " Layer (type)                Output Shape              Param #   \n",
      "=================================================================\n",
      " time_distributed_6 (TimeDis  (None, 16, 118, 118, 32)  896      \n",
      " tributed)                                                       \n",
      "                                                                 \n",
      " time_distributed_7 (TimeDis  (None, 16, 59, 59, 32)   0         \n",
      " tributed)                                                       \n",
      "                                                                 \n",
      " batch_normalization_14 (Bat  (None, 16, 59, 59, 32)   128       \n",
      " chNormalization)                                                \n",
      "                                                                 \n",
      " dropout_11 (Dropout)        (None, 16, 59, 59, 32)    0         \n",
      "                                                                 \n",
      " time_distributed_8 (TimeDis  (None, 16, 57, 57, 64)   18496     \n",
      " tributed)                                                       \n",
      "                                                                 \n",
      " time_distributed_9 (TimeDis  (None, 16, 28, 28, 64)   0         \n",
      " tributed)                                                       \n",
      "                                                                 \n",
      " batch_normalization_15 (Bat  (None, 16, 28, 28, 64)   256       \n",
      " chNormalization)                                                \n",
      "                                                                 \n",
      " dropout_12 (Dropout)        (None, 16, 28, 28, 64)    0         \n",
      "                                                                 \n",
      " time_distributed_10 (TimeDi  (None, 16, 64)           0         \n",
      " stributed)                                                      \n",
      "                                                                 \n",
      " time_distributed_11 (TimeDi  (None, 16, 64)           4160      \n",
      " stributed)                                                      \n",
      "                                                                 \n",
      " batch_normalization_16 (Bat  (None, 16, 64)           256       \n",
      " chNormalization)                                                \n",
      "                                                                 \n",
      " dropout_13 (Dropout)        (None, 16, 64)            0         \n",
      "                                                                 \n",
      " gru (GRU)                   (None, 128)               74496     \n",
      "                                                                 \n",
      " batch_normalization_17 (Bat  (None, 128)              512       \n",
      " chNormalization)                                                \n",
      "                                                                 \n",
      " dense_7 (Dense)             (None, 5)                 645       \n",
      "                                                                 \n",
      "=================================================================\n",
      "Total params: 99,845\n",
      "Trainable params: 99,269\n",
      "Non-trainable params: 576\n",
      "_________________________________________________________________\n",
      "None\n"
     ]
    }
   ],
   "source": [
    "\n",
    "model_name = 'model_init5' + '_' + str(curr_dt_time).replace(' ','').replace(':','_') + '/'\n",
    "    \n",
    "if not os.path.exists(model_name):\n",
    "    os.mkdir(model_name)\n",
    "        \n",
    "filepath = model_name + 'model-{epoch:05d}-{loss:.5f}-{categorical_accuracy:.5f}-{val_loss:.5f}-{val_categorical_accuracy:.5f}.h5'\n",
    "\n",
    "checkpoint = ModelCheckpoint(filepath, monitor='val_loss', verbose=1, save_best_only=True, save_weights_only=False, mode='auto', save_freq='epoch')\n",
    "\n",
    "LR =ReduceLROnPlateau(monitor='val_loss', factor=0.2, verbose=1, patience=4) # write the REducelronplateau code here\n",
    "\n",
    "earlystop = EarlyStopping( monitor=\"val_loss\", min_delta=0,patience=10,verbose=1)\n",
    "\n",
    "callbacks_list = [checkpoint, LR, earlystop]\n",
    "\n",
    "optimiser =tf.keras.optimizers.Adam() #write your optimizer\n",
    "model.compile(optimizer=optimiser, loss='categorical_crossentropy', metrics=['categorical_accuracy'])\n",
    "print (model.summary()) "
   ]
  },
  {
   "cell_type": "code",
   "execution_count": 36,
   "metadata": {
    "id": "hlWZ-xVcAAP4"
   },
   "outputs": [
    {
     "name": "stdout",
     "output_type": "stream",
     "text": [
      "Epoch 1/20\n",
      "17/17 [==============================] - ETA: 0s - loss: 1.4077 - categorical_accuracy: 0.4038\n",
      "Epoch 00001: val_loss improved from inf to 1.33835, saving model to model_init5_2023-01-1207_22_50.672875/model-00001-1.40769-0.40379-1.33835-0.12500.h5\n",
      "17/17 [==============================] - 63s 4s/step - loss: 1.4077 - categorical_accuracy: 0.4038 - val_loss: 1.3383 - val_categorical_accuracy: 0.1250 - lr: 0.0010\n",
      "Epoch 2/20\n",
      "17/17 [==============================] - ETA: 0s - loss: 1.1219 - categorical_accuracy: 0.4592\n",
      "Epoch 00002: val_loss improved from 1.33835 to 1.33145, saving model to model_init5_2023-01-1207_22_50.672875/model-00002-1.12193-0.45918-1.33145-0.16667.h5\n",
      "17/17 [==============================] - 65s 4s/step - loss: 1.1219 - categorical_accuracy: 0.4592 - val_loss: 1.3315 - val_categorical_accuracy: 0.1667 - lr: 0.0010\n",
      "Epoch 3/20\n",
      "17/17 [==============================] - ETA: 0s - loss: 0.9308 - categorical_accuracy: 0.5962\n",
      "Epoch 00003: val_loss did not improve from 1.33145\n",
      "17/17 [==============================] - 63s 4s/step - loss: 0.9308 - categorical_accuracy: 0.5962 - val_loss: 1.3357 - val_categorical_accuracy: 0.1917 - lr: 0.0010\n",
      "Epoch 4/20\n",
      "17/17 [==============================] - ETA: 0s - loss: 0.8212 - categorical_accuracy: 0.6618\n",
      "Epoch 00004: val_loss improved from 1.33145 to 1.31393, saving model to model_init5_2023-01-1207_22_50.672875/model-00004-0.82116-0.66181-1.31393-0.24167.h5\n",
      "17/17 [==============================] - 59s 4s/step - loss: 0.8212 - categorical_accuracy: 0.6618 - val_loss: 1.3139 - val_categorical_accuracy: 0.2417 - lr: 0.0010\n",
      "Epoch 5/20\n",
      "17/17 [==============================] - ETA: 0s - loss: 0.7691 - categorical_accuracy: 0.6735\n",
      "Epoch 00005: val_loss did not improve from 1.31393\n",
      "17/17 [==============================] - 63s 4s/step - loss: 0.7691 - categorical_accuracy: 0.6735 - val_loss: 1.3362 - val_categorical_accuracy: 0.1833 - lr: 0.0010\n",
      "Epoch 6/20\n",
      "17/17 [==============================] - ETA: 0s - loss: 0.6730 - categorical_accuracy: 0.6910\n",
      "Epoch 00006: val_loss did not improve from 1.31393\n",
      "17/17 [==============================] - 65s 4s/step - loss: 0.6730 - categorical_accuracy: 0.6910 - val_loss: 1.3312 - val_categorical_accuracy: 0.1833 - lr: 0.0010\n",
      "Epoch 7/20\n",
      "17/17 [==============================] - ETA: 0s - loss: 0.5776 - categorical_accuracy: 0.7332\n",
      "Epoch 00007: val_loss did not improve from 1.31393\n",
      "17/17 [==============================] - 61s 4s/step - loss: 0.5776 - categorical_accuracy: 0.7332 - val_loss: 1.3192 - val_categorical_accuracy: 0.1917 - lr: 0.0010\n",
      "Epoch 8/20\n",
      "17/17 [==============================] - ETA: 0s - loss: 0.5907 - categorical_accuracy: 0.7493\n",
      "Epoch 00008: val_loss did not improve from 1.31393\n",
      "\n",
      "Epoch 00008: ReduceLROnPlateau reducing learning rate to 0.00020000000949949026.\n",
      "17/17 [==============================] - 63s 4s/step - loss: 0.5907 - categorical_accuracy: 0.7493 - val_loss: 1.3517 - val_categorical_accuracy: 0.1917 - lr: 0.0010\n",
      "Epoch 9/20\n",
      "17/17 [==============================] - ETA: 0s - loss: 0.5702 - categorical_accuracy: 0.7274\n",
      "Epoch 00009: val_loss did not improve from 1.31393\n",
      "17/17 [==============================] - 62s 4s/step - loss: 0.5702 - categorical_accuracy: 0.7274 - val_loss: 1.3826 - val_categorical_accuracy: 0.1667 - lr: 2.0000e-04\n",
      "Epoch 10/20\n",
      "17/17 [==============================] - ETA: 0s - loss: 0.4805 - categorical_accuracy: 0.8061\n",
      "Epoch 00010: val_loss did not improve from 1.31393\n",
      "17/17 [==============================] - 61s 4s/step - loss: 0.4805 - categorical_accuracy: 0.8061 - val_loss: 1.3372 - val_categorical_accuracy: 0.1833 - lr: 2.0000e-04\n",
      "Epoch 11/20\n",
      "17/17 [==============================] - ETA: 0s - loss: 0.4417 - categorical_accuracy: 0.8163\n",
      "Epoch 00011: val_loss did not improve from 1.31393\n",
      "17/17 [==============================] - 63s 4s/step - loss: 0.4417 - categorical_accuracy: 0.8163 - val_loss: 1.3393 - val_categorical_accuracy: 0.1917 - lr: 2.0000e-04\n",
      "Epoch 12/20\n",
      "17/17 [==============================] - ETA: 0s - loss: 0.4169 - categorical_accuracy: 0.8338\n",
      "Epoch 00012: val_loss did not improve from 1.31393\n",
      "\n",
      "Epoch 00012: ReduceLROnPlateau reducing learning rate to 4.0000001899898055e-05.\n",
      "17/17 [==============================] - 65s 4s/step - loss: 0.4169 - categorical_accuracy: 0.8338 - val_loss: 1.3987 - val_categorical_accuracy: 0.1583 - lr: 2.0000e-04\n",
      "Epoch 13/20\n",
      "17/17 [==============================] - ETA: 0s - loss: 0.4172 - categorical_accuracy: 0.8178\n",
      "Epoch 00013: val_loss did not improve from 1.31393\n",
      "17/17 [==============================] - 59s 4s/step - loss: 0.4172 - categorical_accuracy: 0.8178 - val_loss: 1.3810 - val_categorical_accuracy: 0.2167 - lr: 4.0000e-05\n",
      "Epoch 14/20\n",
      "17/17 [==============================] - ETA: 0s - loss: 0.3884 - categorical_accuracy: 0.8455\n",
      "Epoch 00014: val_loss did not improve from 1.31393\n",
      "17/17 [==============================] - 61s 4s/step - loss: 0.3884 - categorical_accuracy: 0.8455 - val_loss: 1.3428 - val_categorical_accuracy: 0.2000 - lr: 4.0000e-05\n",
      "Epoch 00014: early stopping\n"
     ]
    }
   ],
   "source": [
    " history=model.fit(train_generator, steps_per_epoch=steps_per_epoch, epochs=num_epochs, verbose=1, \n",
    "                    callbacks=callbacks_list, validation_data=val_generator, \n",
    "                    validation_steps=validation_steps, class_weight=None, workers=1, initial_epoch=0)"
   ]
  },
  {
   "cell_type": "code",
   "execution_count": 37,
   "metadata": {
    "id": "XAR5LVItAAP5"
   },
   "outputs": [
    {
     "data": {
      "image/png": "[encoded data removed]",
      "text/plain": [
       "<Figure size 1080x288 with 2 Axes>"
      ]
     },
     "metadata": {
      "needs_background": "light"
     },
     "output_type": "display_data"
    }
   ],
   "source": [
    " plot(history)"
   ]
  },
  {
   "cell_type": "markdown",
   "metadata": {},
   "source": [
    "### Model Conclusion\n",
    "\n",
    "#### Model Accuracy on the train set is  83% and on validation set is 15%\n",
    "#### Model is Overfitting"
   ]
  },
  {
   "cell_type": "markdown",
   "metadata": {},
   "source": [
    "### Model with Trasnfer learning"
   ]
  },
  {
   "cell_type": "markdown",
   "metadata": {
    "id": "mMVyR1_pAAP5"
   },
   "source": [
    "### Model 6: Transfer Learning (VGG16) + LSTM Model\n"
   ]
  },
  {
   "cell_type": "code",
   "execution_count": 38,
   "metadata": {
    "id": "2ZApMheVAAP5"
   },
   "outputs": [
    {
     "name": "stdout",
     "output_type": "stream",
     "text": [
      "Downloading data from https://storage.googleapis.com/tensorflow/keras-applications/vgg16/vgg16_weights_tf_dim_ordering_tf_kernels_notop.h5\n",
      "58892288/58889256 [==============================] - 2s 0us/step\n",
      "58900480/58889256 [==============================] - 2s 0us/step\n"
     ]
    }
   ],
   "source": [
    " from keras.applications.vgg16 import VGG16\n",
    " VGG16_transfer = tf.keras.applications.vgg16.VGG16(weights='imagenet', include_top=False)\n",
    " model = Sequential()\n",
    " model.add(TimeDistributed(VGG16_transfer,input_shape=input_shape))\n",
    " for layer in model.layers:\n",
    "     layer.trainable = False\n",
    "\n",
    " model.add(TimeDistributed(BatchNormalization()))\n",
    " model.add(TimeDistributed(MaxPooling2D((2, 2))))\n",
    " model.add(TimeDistributed(Flatten()))\n",
    " model.add(LSTM(128))\n",
    " model.add(Dropout(0.25))\n",
    " model.add(Dense(64,activation='relu'))\n",
    " model.add(Dropout(0.25))\n",
    "       \n",
    " model.add(Dense(5, activation='softmax'))\n",
    "\n",
    "# Total params: 15,053,509 , Trainable params: 337,797 , Non-trainable params: 14,715,712"
   ]
  },
  {
   "cell_type": "code",
   "execution_count": 39,
   "metadata": {
    "id": "cIVABOjEiDmb"
   },
   "outputs": [
    {
     "name": "stdout",
     "output_type": "stream",
     "text": [
      "Model: \"sequential_4\"\n",
      "_________________________________________________________________\n",
      " Layer (type)                Output Shape              Param #   \n",
      "=================================================================\n",
      " time_distributed_12 (TimeDi  (None, 16, 3, 3, 512)    14714688  \n",
      " stributed)                                                      \n",
      "                                                                 \n",
      " time_distributed_13 (TimeDi  (None, 16, 3, 3, 512)    2048      \n",
      " stributed)                                                      \n",
      "                                                                 \n",
      " time_distributed_14 (TimeDi  (None, 16, 1, 1, 512)    0         \n",
      " stributed)                                                      \n",
      "                                                                 \n",
      " time_distributed_15 (TimeDi  (None, 16, 512)          0         \n",
      " stributed)                                                      \n",
      "                                                                 \n",
      " lstm_1 (LSTM)               (None, 128)               328192    \n",
      "                                                                 \n",
      " dropout_14 (Dropout)        (None, 128)               0         \n",
      "                                                                 \n",
      " dense_8 (Dense)             (None, 64)                8256      \n",
      "                                                                 \n",
      " dropout_15 (Dropout)        (None, 64)                0         \n",
      "                                                                 \n",
      " dense_9 (Dense)             (None, 5)                 325       \n",
      "                                                                 \n",
      "=================================================================\n",
      "Total params: 15,053,509\n",
      "Trainable params: 337,797\n",
      "Non-trainable params: 14,715,712\n",
      "_________________________________________________________________\n",
      "None\n"
     ]
    }
   ],
   "source": [
    "\n",
    "model_name = 'model_init6' + '_' + str(curr_dt_time).replace(' ','').replace(':','_') + '/'\n",
    "    \n",
    "if not os.path.exists(model_name):\n",
    "    os.mkdir(model_name)\n",
    "        \n",
    "filepath = model_name + 'model-{epoch:05d}-{loss:.5f}-{categorical_accuracy:.5f}-{val_loss:.5f}-{val_categorical_accuracy:.5f}.h5'\n",
    "\n",
    "checkpoint = ModelCheckpoint(filepath, monitor='val_loss', verbose=1, save_best_only=True, save_weights_only=False, mode='auto', save_freq='epoch')\n",
    "\n",
    "LR =ReduceLROnPlateau(monitor='val_loss', factor=0.2, verbose=1, patience=4) # write the REducelronplateau code here\n",
    "\n",
    "earlystop = EarlyStopping( monitor=\"val_loss\", min_delta=0,patience=10,verbose=1)\n",
    "\n",
    "callbacks_list = [checkpoint, LR, earlystop]\n",
    "\n",
    "optimiser =tf.keras.optimizers.Adam() #write your optimizer\n",
    "model.compile(optimizer=optimiser, loss='categorical_crossentropy', metrics=['categorical_accuracy'])\n",
    "print (model.summary()) "
   ]
  },
  {
   "cell_type": "code",
   "execution_count": 40,
   "metadata": {
    "id": "6jaVtPr9AAP6"
   },
   "outputs": [
    {
     "name": "stdout",
     "output_type": "stream",
     "text": [
      "Epoch 1/20\n",
      "17/17 [==============================] - ETA: 0s - loss: 1.5241 - categorical_accuracy: 0.3003\n",
      "Epoch 00001: val_loss improved from inf to 1.24920, saving model to model_init6_2023-01-1207_22_50.672875/model-00001-1.52406-0.30029-1.24920-0.25000.h5\n",
      "17/17 [==============================] - 69s 4s/step - loss: 1.5241 - categorical_accuracy: 0.3003 - val_loss: 1.2492 - val_categorical_accuracy: 0.2500 - lr: 0.0010\n",
      "Epoch 2/20\n",
      "17/17 [==============================] - ETA: 0s - loss: 1.1322 - categorical_accuracy: 0.5452\n",
      "Epoch 00002: val_loss improved from 1.24920 to 1.10944, saving model to model_init6_2023-01-1207_22_50.672875/model-00002-1.13222-0.54519-1.10944-0.40000.h5\n",
      "17/17 [==============================] - 61s 4s/step - loss: 1.1322 - categorical_accuracy: 0.5452 - val_loss: 1.1094 - val_categorical_accuracy: 0.4000 - lr: 0.0010\n",
      "Epoch 3/20\n",
      "17/17 [==============================] - ETA: 0s - loss: 0.8411 - categorical_accuracy: 0.7070\n",
      "Epoch 00003: val_loss improved from 1.10944 to 1.02594, saving model to model_init6_2023-01-1207_22_50.672875/model-00003-0.84111-0.70700-1.02594-0.42500.h5\n",
      "17/17 [==============================] - 65s 4s/step - loss: 0.8411 - categorical_accuracy: 0.7070 - val_loss: 1.0259 - val_categorical_accuracy: 0.4250 - lr: 0.0010\n",
      "Epoch 4/20\n",
      "17/17 [==============================] - ETA: 0s - loss: 0.6067 - categorical_accuracy: 0.7843\n",
      "Epoch 00004: val_loss did not improve from 1.02594\n",
      "17/17 [==============================] - 63s 4s/step - loss: 0.6067 - categorical_accuracy: 0.7843 - val_loss: 1.0884 - val_categorical_accuracy: 0.3917 - lr: 0.0010\n",
      "Epoch 5/20\n",
      "17/17 [==============================] - ETA: 0s - loss: 0.3730 - categorical_accuracy: 0.8819\n",
      "Epoch 00005: val_loss improved from 1.02594 to 0.99033, saving model to model_init6_2023-01-1207_22_50.672875/model-00005-0.37303-0.88192-0.99033-0.45833.h5\n",
      "17/17 [==============================] - 63s 4s/step - loss: 0.3730 - categorical_accuracy: 0.8819 - val_loss: 0.9903 - val_categorical_accuracy: 0.4583 - lr: 0.0010\n",
      "Epoch 6/20\n",
      "17/17 [==============================] - ETA: 0s - loss: 0.2540 - categorical_accuracy: 0.9082\n",
      "Epoch 00006: val_loss improved from 0.99033 to 0.86862, saving model to model_init6_2023-01-1207_22_50.672875/model-00006-0.25405-0.90816-0.86862-0.50000.h5\n",
      "17/17 [==============================] - 61s 4s/step - loss: 0.2540 - categorical_accuracy: 0.9082 - val_loss: 0.8686 - val_categorical_accuracy: 0.5000 - lr: 0.0010\n",
      "Epoch 7/20\n",
      "17/17 [==============================] - ETA: 0s - loss: 0.1553 - categorical_accuracy: 0.9315\n",
      "Epoch 00007: val_loss did not improve from 0.86862\n",
      "17/17 [==============================] - 63s 4s/step - loss: 0.1553 - categorical_accuracy: 0.9315 - val_loss: 1.1898 - val_categorical_accuracy: 0.4250 - lr: 0.0010\n",
      "Epoch 8/20\n",
      "17/17 [==============================] - ETA: 0s - loss: 0.1100 - categorical_accuracy: 0.9490\n",
      "Epoch 00008: val_loss improved from 0.86862 to 0.83375, saving model to model_init6_2023-01-1207_22_50.672875/model-00008-0.10996-0.94898-0.83375-0.54167.h5\n",
      "17/17 [==============================] - 62s 4s/step - loss: 0.1100 - categorical_accuracy: 0.9490 - val_loss: 0.8338 - val_categorical_accuracy: 0.5417 - lr: 0.0010\n",
      "Epoch 9/20\n",
      "17/17 [==============================] - ETA: 0s - loss: 0.0851 - categorical_accuracy: 0.9534\n",
      "Epoch 00009: val_loss did not improve from 0.83375\n",
      "17/17 [==============================] - 62s 4s/step - loss: 0.0851 - categorical_accuracy: 0.9534 - val_loss: 1.0165 - val_categorical_accuracy: 0.5250 - lr: 0.0010\n",
      "Epoch 10/20\n",
      "17/17 [==============================] - ETA: 0s - loss: 0.0670 - categorical_accuracy: 0.9592\n",
      "Epoch 00010: val_loss did not improve from 0.83375\n",
      "17/17 [==============================] - 63s 4s/step - loss: 0.0670 - categorical_accuracy: 0.9592 - val_loss: 0.8846 - val_categorical_accuracy: 0.7000 - lr: 0.0010\n",
      "Epoch 11/20\n",
      "17/17 [==============================] - ETA: 0s - loss: 0.0524 - categorical_accuracy: 0.9606\n",
      "Epoch 00011: val_loss did not improve from 0.83375\n",
      "17/17 [==============================] - 62s 4s/step - loss: 0.0524 - categorical_accuracy: 0.9606 - val_loss: 0.9446 - val_categorical_accuracy: 0.5417 - lr: 0.0010\n",
      "Epoch 12/20\n",
      "17/17 [==============================] - ETA: 0s - loss: 0.0375 - categorical_accuracy: 0.9665\n",
      "Epoch 00012: val_loss did not improve from 0.83375\n",
      "\n",
      "Epoch 00012: ReduceLROnPlateau reducing learning rate to 0.00020000000949949026.\n",
      "17/17 [==============================] - 62s 4s/step - loss: 0.0375 - categorical_accuracy: 0.9665 - val_loss: 0.8434 - val_categorical_accuracy: 0.5833 - lr: 0.0010\n",
      "Epoch 13/20\n",
      "17/17 [==============================] - ETA: 0s - loss: 0.0351 - categorical_accuracy: 0.9679\n",
      "Epoch 00013: val_loss improved from 0.83375 to 0.82752, saving model to model_init6_2023-01-1207_22_50.672875/model-00013-0.03506-0.96793-0.82752-0.63333.h5\n",
      "17/17 [==============================] - 64s 4s/step - loss: 0.0351 - categorical_accuracy: 0.9679 - val_loss: 0.8275 - val_categorical_accuracy: 0.6333 - lr: 2.0000e-04\n",
      "Epoch 14/20\n",
      "17/17 [==============================] - ETA: 0s - loss: 0.0248 - categorical_accuracy: 0.9738\n",
      "Epoch 00014: val_loss improved from 0.82752 to 0.80322, saving model to model_init6_2023-01-1207_22_50.672875/model-00014-0.02485-0.97376-0.80322-0.75833.h5\n",
      "17/17 [==============================] - 61s 4s/step - loss: 0.0248 - categorical_accuracy: 0.9738 - val_loss: 0.8032 - val_categorical_accuracy: 0.7583 - lr: 2.0000e-04\n",
      "Epoch 15/20\n",
      "17/17 [==============================] - ETA: 0s - loss: 0.0226 - categorical_accuracy: 0.9752\n",
      "Epoch 00015: val_loss did not improve from 0.80322\n",
      "17/17 [==============================] - 63s 4s/step - loss: 0.0226 - categorical_accuracy: 0.9752 - val_loss: 0.8275 - val_categorical_accuracy: 0.5833 - lr: 2.0000e-04\n",
      "Epoch 16/20\n",
      "17/17 [==============================] - ETA: 0s - loss: 0.0328 - categorical_accuracy: 0.9708\n",
      "Epoch 00016: val_loss did not improve from 0.80322\n",
      "17/17 [==============================] - 63s 4s/step - loss: 0.0328 - categorical_accuracy: 0.9708 - val_loss: 0.9483 - val_categorical_accuracy: 0.5000 - lr: 2.0000e-04\n",
      "Epoch 17/20\n",
      "17/17 [==============================] - ETA: 0s - loss: 0.0169 - categorical_accuracy: 0.9752\n",
      "Epoch 00017: val_loss improved from 0.80322 to 0.75880, saving model to model_init6_2023-01-1207_22_50.672875/model-00017-0.01690-0.97522-0.75880-0.62500.h5\n",
      "17/17 [==============================] - 62s 4s/step - loss: 0.0169 - categorical_accuracy: 0.9752 - val_loss: 0.7588 - val_categorical_accuracy: 0.6250 - lr: 2.0000e-04\n",
      "Epoch 18/20\n",
      "17/17 [==============================] - ETA: 0s - loss: 0.0210 - categorical_accuracy: 0.9694\n",
      "Epoch 00018: val_loss did not improve from 0.75880\n",
      "17/17 [==============================] - 63s 4s/step - loss: 0.0210 - categorical_accuracy: 0.9694 - val_loss: 0.8552 - val_categorical_accuracy: 0.5750 - lr: 2.0000e-04\n",
      "Epoch 19/20\n",
      "17/17 [==============================] - ETA: 0s - loss: 0.0174 - categorical_accuracy: 0.9738\n",
      "Epoch 00019: val_loss did not improve from 0.75880\n",
      "17/17 [==============================] - 64s 4s/step - loss: 0.0174 - categorical_accuracy: 0.9738 - val_loss: 0.8839 - val_categorical_accuracy: 0.5667 - lr: 2.0000e-04\n",
      "Epoch 20/20\n",
      "17/17 [==============================] - ETA: 0s - loss: 0.0148 - categorical_accuracy: 0.9738\n",
      "Epoch 00020: val_loss improved from 0.75880 to 0.71954, saving model to model_init6_2023-01-1207_22_50.672875/model-00020-0.01477-0.97376-0.71954-0.59167.h5\n",
      "17/17 [==============================] - 61s 4s/step - loss: 0.0148 - categorical_accuracy: 0.9738 - val_loss: 0.7195 - val_categorical_accuracy: 0.5917 - lr: 2.0000e-04\n"
     ]
    }
   ],
   "source": [
    "history=model.fit(train_generator, steps_per_epoch=steps_per_epoch, epochs=num_epochs, verbose=1, \n",
    "                    callbacks=callbacks_list, validation_data=val_generator, \n",
    "                    validation_steps=validation_steps, class_weight=None, workers=1, initial_epoch=0)"
   ]
  },
  {
   "cell_type": "code",
   "execution_count": 41,
   "metadata": {},
   "outputs": [
    {
     "data": {
      "image/png": "[encoded data removed]",
      "text/plain": [
       "<Figure size 1080x288 with 2 Axes>"
      ]
     },
     "metadata": {
      "needs_background": "light"
     },
     "output_type": "display_data"
    }
   ],
   "source": [
    " plot(history)"
   ]
  },
  {
   "cell_type": "markdown",
   "metadata": {},
   "source": [
    "### Model Conclusion\n",
    "\n",
    "#### Model Accuracy on the train set is  96% and on validation set is 57%\n",
    "#### Model is Overfitting"
   ]
  },
  {
   "cell_type": "markdown",
   "metadata": {
    "id": "Qn9Ry5xIAAP8"
   },
   "source": [
    "### Model 7: VGG16 + GRU\n"
   ]
  },
  {
   "cell_type": "code",
   "execution_count": 42,
   "metadata": {
    "id": "6XNfPIOzAAP8"
   },
   "outputs": [],
   "source": [
    " from keras.applications.vgg16 import VGG16\n",
    " VGG16_transfer = tf.keras.applications.vgg16.VGG16(weights='imagenet', include_top=False)\n",
    " model = Sequential()\n",
    " model.add(TimeDistributed(VGG16_transfer,input_shape=input_shape))\n",
    " for layer in model.layers:\n",
    "     layer.trainable = False\n",
    "\n",
    " model.add(TimeDistributed(BatchNormalization()))\n",
    " model.add(TimeDistributed(MaxPooling2D((2, 2))))\n",
    " model.add(TimeDistributed(Flatten()))\n",
    " model.add(GRU(128))\n",
    " model.add(BatchNormalization())\n",
    " model.add(Dropout(0.25))\n",
    " model.add(Dense(64,activation='relu'))\n",
    " model.add(Dropout(0.5))\n",
    "        \n",
    " model.add(Dense(5, activation='softmax'))\n",
    "\n",
    " # Total params: 14,972,357, Trainable params: 256,389, Non-trainable params: 14,715,968\n",
    "   "
   ]
  },
  {
   "cell_type": "code",
   "execution_count": 43,
   "metadata": {
    "id": "bv9hqhKGiTvU"
   },
   "outputs": [
    {
     "name": "stdout",
     "output_type": "stream",
     "text": [
      "Model: \"sequential_5\"\n",
      "_________________________________________________________________\n",
      " Layer (type)                Output Shape              Param #   \n",
      "=================================================================\n",
      " time_distributed_16 (TimeDi  (None, 16, 3, 3, 512)    14714688  \n",
      " stributed)                                                      \n",
      "                                                                 \n",
      " time_distributed_17 (TimeDi  (None, 16, 3, 3, 512)    2048      \n",
      " stributed)                                                      \n",
      "                                                                 \n",
      " time_distributed_18 (TimeDi  (None, 16, 1, 1, 512)    0         \n",
      " stributed)                                                      \n",
      "                                                                 \n",
      " time_distributed_19 (TimeDi  (None, 16, 512)          0         \n",
      " stributed)                                                      \n",
      "                                                                 \n",
      " gru_1 (GRU)                 (None, 128)               246528    \n",
      "                                                                 \n",
      " batch_normalization_20 (Bat  (None, 128)              512       \n",
      " chNormalization)                                                \n",
      "                                                                 \n",
      " dropout_16 (Dropout)        (None, 128)               0         \n",
      "                                                                 \n",
      " dense_10 (Dense)            (None, 64)                8256      \n",
      "                                                                 \n",
      " dropout_17 (Dropout)        (None, 64)                0         \n",
      "                                                                 \n",
      " dense_11 (Dense)            (None, 5)                 325       \n",
      "                                                                 \n",
      "=================================================================\n",
      "Total params: 14,972,357\n",
      "Trainable params: 256,389\n",
      "Non-trainable params: 14,715,968\n",
      "_________________________________________________________________\n",
      "None\n"
     ]
    }
   ],
   "source": [
    "\n",
    "\n",
    "model_name = 'model_init7' + '_' + str(curr_dt_time).replace(' ','').replace(':','_') + '/'\n",
    "    \n",
    "if not os.path.exists(model_name):\n",
    "    os.mkdir(model_name)\n",
    "        \n",
    "filepath = model_name + 'model-{epoch:05d}-{loss:.5f}-{categorical_accuracy:.5f}-{val_loss:.5f}-{val_categorical_accuracy:.5f}.h5'\n",
    "\n",
    "checkpoint = ModelCheckpoint(filepath, monitor='val_loss', verbose=1, save_best_only=True, save_weights_only=False, mode='auto', save_freq='epoch')\n",
    "\n",
    "LR =ReduceLROnPlateau(monitor='val_loss', factor=0.2, verbose=1, patience=4) # write the REducelronplateau code here\n",
    "earlystop = EarlyStopping( monitor=\"val_loss\", min_delta=0,patience=10,verbose=1)\n",
    "callbacks_list = [checkpoint, LR, earlystop]\n",
    "\n",
    "optimiser =tf.keras.optimizers.Adam() #write your optimizer\n",
    "model.compile(optimizer=optimiser, loss='categorical_crossentropy', metrics=['categorical_accuracy'])\n",
    "print (model.summary()) "
   ]
  },
  {
   "cell_type": "code",
   "execution_count": 44,
   "metadata": {
    "id": "z5iRPsKoAAP9"
   },
   "outputs": [
    {
     "name": "stdout",
     "output_type": "stream",
     "text": [
      "Epoch 1/20\n",
      "17/17 [==============================] - ETA: 0s - loss: 2.1432 - categorical_accuracy: 0.2682\n",
      "Epoch 00001: val_loss improved from inf to 1.33708, saving model to model_init7_2023-01-1207_22_50.672875/model-00001-2.14315-0.26822-1.33708-0.30000.h5\n",
      "17/17 [==============================] - 66s 4s/step - loss: 2.1432 - categorical_accuracy: 0.2682 - val_loss: 1.3371 - val_categorical_accuracy: 0.3000 - lr: 0.0010\n",
      "Epoch 2/20\n",
      "17/17 [==============================] - ETA: 0s - loss: 1.4215 - categorical_accuracy: 0.4548\n",
      "Epoch 00002: val_loss improved from 1.33708 to 1.16650, saving model to model_init7_2023-01-1207_22_50.672875/model-00002-1.42153-0.45481-1.16650-0.40833.h5\n",
      "17/17 [==============================] - 64s 4s/step - loss: 1.4215 - categorical_accuracy: 0.4548 - val_loss: 1.1665 - val_categorical_accuracy: 0.4083 - lr: 0.0010\n",
      "Epoch 3/20\n",
      "17/17 [==============================] - ETA: 0s - loss: 1.1009 - categorical_accuracy: 0.5700\n",
      "Epoch 00003: val_loss improved from 1.16650 to 1.09192, saving model to model_init7_2023-01-1207_22_50.672875/model-00003-1.10092-0.56997-1.09192-0.44167.h5\n",
      "17/17 [==============================] - 61s 4s/step - loss: 1.1009 - categorical_accuracy: 0.5700 - val_loss: 1.0919 - val_categorical_accuracy: 0.4417 - lr: 0.0010\n",
      "Epoch 4/20\n",
      "17/17 [==============================] - ETA: 0s - loss: 0.9020 - categorical_accuracy: 0.6122\n",
      "Epoch 00004: val_loss improved from 1.09192 to 1.02073, saving model to model_init7_2023-01-1207_22_50.672875/model-00004-0.90197-0.61224-1.02073-0.45833.h5\n",
      "17/17 [==============================] - 62s 4s/step - loss: 0.9020 - categorical_accuracy: 0.6122 - val_loss: 1.0207 - val_categorical_accuracy: 0.4583 - lr: 0.0010\n",
      "Epoch 5/20\n",
      "17/17 [==============================] - ETA: 0s - loss: 0.7354 - categorical_accuracy: 0.7012\n",
      "Epoch 00005: val_loss improved from 1.02073 to 0.95677, saving model to model_init7_2023-01-1207_22_50.672875/model-00005-0.73544-0.70117-0.95677-0.46667.h5\n",
      "17/17 [==============================] - 64s 4s/step - loss: 0.7354 - categorical_accuracy: 0.7012 - val_loss: 0.9568 - val_categorical_accuracy: 0.4667 - lr: 0.0010\n",
      "Epoch 6/20\n",
      "17/17 [==============================] - ETA: 0s - loss: 0.6214 - categorical_accuracy: 0.7376\n",
      "Epoch 00006: val_loss improved from 0.95677 to 0.86277, saving model to model_init7_2023-01-1207_22_50.672875/model-00006-0.62139-0.73761-0.86277-0.50833.h5\n",
      "17/17 [==============================] - 60s 4s/step - loss: 0.6214 - categorical_accuracy: 0.7376 - val_loss: 0.8628 - val_categorical_accuracy: 0.5083 - lr: 0.0010\n",
      "Epoch 7/20\n",
      "17/17 [==============================] - ETA: 0s - loss: 0.5199 - categorical_accuracy: 0.7843\n",
      "Epoch 00007: val_loss improved from 0.86277 to 0.81613, saving model to model_init7_2023-01-1207_22_50.672875/model-00007-0.51994-0.78426-0.81613-0.51667.h5\n",
      "17/17 [==============================] - 65s 4s/step - loss: 0.5199 - categorical_accuracy: 0.7843 - val_loss: 0.8161 - val_categorical_accuracy: 0.5167 - lr: 0.0010\n",
      "Epoch 8/20\n",
      "17/17 [==============================] - ETA: 0s - loss: 0.4632 - categorical_accuracy: 0.8076\n",
      "Epoch 00008: val_loss improved from 0.81613 to 0.77279, saving model to model_init7_2023-01-1207_22_50.672875/model-00008-0.46319-0.80758-0.77279-0.52500.h5\n",
      "17/17 [==============================] - 63s 4s/step - loss: 0.4632 - categorical_accuracy: 0.8076 - val_loss: 0.7728 - val_categorical_accuracy: 0.5250 - lr: 0.0010\n",
      "Epoch 9/20\n",
      "17/17 [==============================] - ETA: 0s - loss: 0.3819 - categorical_accuracy: 0.8324\n",
      "Epoch 00009: val_loss improved from 0.77279 to 0.69104, saving model to model_init7_2023-01-1207_22_50.672875/model-00009-0.38186-0.83236-0.69104-0.54167.h5\n",
      "17/17 [==============================] - 63s 4s/step - loss: 0.3819 - categorical_accuracy: 0.8324 - val_loss: 0.6910 - val_categorical_accuracy: 0.5417 - lr: 0.0010\n",
      "Epoch 10/20\n",
      "17/17 [==============================] - ETA: 0s - loss: 0.3437 - categorical_accuracy: 0.8499\n",
      "Epoch 00010: val_loss did not improve from 0.69104\n",
      "17/17 [==============================] - 61s 4s/step - loss: 0.3437 - categorical_accuracy: 0.8499 - val_loss: 0.7272 - val_categorical_accuracy: 0.5167 - lr: 0.0010\n",
      "Epoch 11/20\n",
      "17/17 [==============================] - ETA: 0s - loss: 0.2648 - categorical_accuracy: 0.8950\n",
      "Epoch 00011: val_loss did not improve from 0.69104\n",
      "17/17 [==============================] - 64s 4s/step - loss: 0.2648 - categorical_accuracy: 0.8950 - val_loss: 0.7331 - val_categorical_accuracy: 0.5167 - lr: 0.0010\n",
      "Epoch 12/20\n",
      "17/17 [==============================] - ETA: 0s - loss: 0.2156 - categorical_accuracy: 0.9009\n",
      "Epoch 00012: val_loss did not improve from 0.69104\n",
      "17/17 [==============================] - 61s 4s/step - loss: 0.2156 - categorical_accuracy: 0.9009 - val_loss: 0.7639 - val_categorical_accuracy: 0.4833 - lr: 0.0010\n",
      "Epoch 13/20\n",
      "17/17 [==============================] - ETA: 0s - loss: 0.2072 - categorical_accuracy: 0.9111\n",
      "Epoch 00013: val_loss did not improve from 0.69104\n",
      "\n",
      "Epoch 00013: ReduceLROnPlateau reducing learning rate to 0.00020000000949949026.\n",
      "17/17 [==============================] - 63s 4s/step - loss: 0.2072 - categorical_accuracy: 0.9111 - val_loss: 0.7209 - val_categorical_accuracy: 0.5250 - lr: 0.0010\n",
      "Epoch 14/20\n",
      "17/17 [==============================] - ETA: 0s - loss: 0.1757 - categorical_accuracy: 0.9140\n",
      "Epoch 00014: val_loss improved from 0.69104 to 0.66852, saving model to model_init7_2023-01-1207_22_50.672875/model-00014-0.17570-0.91399-0.66852-0.53333.h5\n",
      "17/17 [==============================] - 63s 4s/step - loss: 0.1757 - categorical_accuracy: 0.9140 - val_loss: 0.6685 - val_categorical_accuracy: 0.5333 - lr: 2.0000e-04\n",
      "Epoch 15/20\n",
      "17/17 [==============================] - ETA: 0s - loss: 0.1582 - categorical_accuracy: 0.9286\n",
      "Epoch 00015: val_loss did not improve from 0.66852\n",
      "17/17 [==============================] - 59s 4s/step - loss: 0.1582 - categorical_accuracy: 0.9286 - val_loss: 0.7202 - val_categorical_accuracy: 0.5083 - lr: 2.0000e-04\n",
      "Epoch 16/20\n",
      "17/17 [==============================] - ETA: 0s - loss: 0.1453 - categorical_accuracy: 0.9315\n",
      "Epoch 00016: val_loss did not improve from 0.66852\n",
      "17/17 [==============================] - 65s 4s/step - loss: 0.1453 - categorical_accuracy: 0.9315 - val_loss: 0.7230 - val_categorical_accuracy: 0.5417 - lr: 2.0000e-04\n",
      "Epoch 17/20\n",
      "17/17 [==============================] - ETA: 0s - loss: 0.1430 - categorical_accuracy: 0.9359\n",
      "Epoch 00017: val_loss did not improve from 0.66852\n",
      "17/17 [==============================] - 62s 4s/step - loss: 0.1430 - categorical_accuracy: 0.9359 - val_loss: 0.7706 - val_categorical_accuracy: 0.5583 - lr: 2.0000e-04\n",
      "Epoch 18/20\n",
      "17/17 [==============================] - ETA: 0s - loss: 0.1734 - categorical_accuracy: 0.9096\n",
      "Epoch 00018: val_loss did not improve from 0.66852\n",
      "\n",
      "Epoch 00018: ReduceLROnPlateau reducing learning rate to 4.0000001899898055e-05.\n",
      "17/17 [==============================] - 64s 4s/step - loss: 0.1734 - categorical_accuracy: 0.9096 - val_loss: 0.8150 - val_categorical_accuracy: 0.5250 - lr: 2.0000e-04\n",
      "Epoch 19/20\n",
      "17/17 [==============================] - ETA: 0s - loss: 0.1331 - categorical_accuracy: 0.9359\n",
      "Epoch 00019: val_loss did not improve from 0.66852\n",
      "17/17 [==============================] - 63s 4s/step - loss: 0.1331 - categorical_accuracy: 0.9359 - val_loss: 0.7429 - val_categorical_accuracy: 0.5417 - lr: 4.0000e-05\n",
      "Epoch 20/20\n",
      "17/17 [==============================] - ETA: 0s - loss: 0.1415 - categorical_accuracy: 0.9329\n",
      "Epoch 00020: val_loss did not improve from 0.66852\n",
      "17/17 [==============================] - 64s 4s/step - loss: 0.1415 - categorical_accuracy: 0.9329 - val_loss: 0.8581 - val_categorical_accuracy: 0.5083 - lr: 4.0000e-05\n"
     ]
    }
   ],
   "source": [
    "history=model.fit(train_generator, steps_per_epoch=steps_per_epoch, epochs=num_epochs, verbose=1, \n",
    "                     callbacks=callbacks_list, validation_data=val_generator, \n",
    "                     validation_steps=validation_steps, class_weight=None, workers=1, initial_epoch=0)"
   ]
  },
  {
   "cell_type": "code",
   "execution_count": 45,
   "metadata": {
    "id": "aPlSjDDYAAP9"
   },
   "outputs": [
    {
     "data": {
      "image/png": "[encoded data removed]",
      "text/plain": [
       "<Figure size 1080x288 with 2 Axes>"
      ]
     },
     "metadata": {
      "needs_background": "light"
     },
     "output_type": "display_data"
    }
   ],
   "source": [
    " plot(history)"
   ]
  },
  {
   "cell_type": "markdown",
   "metadata": {},
   "source": [
    "### Model Conclusion\n",
    "\n",
    "#### Model Accuracy on the train set is  94% and on validation set is 75%\n",
    "#### Model is Overfitting"
   ]
  },
  {
   "cell_type": "markdown",
   "metadata": {
    "id": "IGIS5BWKAAP9"
   },
   "source": [
    "## Final Model\n",
    "### Model 8: TransferLearning(Mobilenet) + GRU Model"
   ]
  },
  {
   "cell_type": "code",
   "execution_count": 46,
   "metadata": {
    "id": "K26tmkGuAAP-"
   },
   "outputs": [
    {
     "name": "stdout",
     "output_type": "stream",
     "text": [
      "WARNING:tensorflow:`input_shape` is undefined or non-square, or `rows` is not in [128, 160, 192, 224]. Weights for input shape (224, 224) will be loaded as the default.\n",
      "Downloading data from https://storage.googleapis.com/tensorflow/keras-applications/mobilenet/mobilenet_1_0_224_tf_no_top.h5\n",
      "17227776/17225924 [==============================] - 2s 0us/step\n",
      "17235968/17225924 [==============================] - 2s 0us/step\n"
     ]
    }
   ],
   "source": [
    "from keras.applications import mobilenet\n",
    "\n",
    "mobilenet_transfer = mobilenet.MobileNet(weights='imagenet', include_top=False)\n",
    "\n",
    "model = Sequential()\n",
    "model.add(TimeDistributed(mobilenet_transfer,input_shape=input_shape))\n",
    " \n",
    "model.add(TimeDistributed(BatchNormalization()))\n",
    "model.add(TimeDistributed(MaxPooling2D((2, 2))))\n",
    "model.add(TimeDistributed(Flatten()))\n",
    "\n",
    "model.add(GRU(128))\n",
    "model.add(Dropout(0.25))\n",
    "        \n",
    "model.add(Dense(128,activation='relu'))\n",
    "model.add(Dropout(0.25))\n",
    "        \n",
    "model.add(Dense(5, activation='softmax'))\n",
    "\n",
    "# Total params: 20,900,613, Trainable params: 20,897,669 , Non-trainable params: 2,944"
   ]
  },
  {
   "cell_type": "markdown",
   "metadata": {
    "id": "sWM2HEhlAAP-"
   },
   "source": [
    "### Compile \n",
    "After the model creation, the next step is to `compile` the model. In`summary` of the model, we'll see the total number of parameters to train."
   ]
  },
  {
   "cell_type": "code",
   "execution_count": 47,
   "metadata": {
    "id": "aq0Rs5vhAAP-"
   },
   "outputs": [
    {
     "name": "stdout",
     "output_type": "stream",
     "text": [
      "Model: \"sequential_6\"\n",
      "_________________________________________________________________\n",
      " Layer (type)                Output Shape              Param #   \n",
      "=================================================================\n",
      " time_distributed_20 (TimeDi  (None, 16, 3, 3, 1024)   3228864   \n",
      " stributed)                                                      \n",
      "                                                                 \n",
      " time_distributed_21 (TimeDi  (None, 16, 3, 3, 1024)   4096      \n",
      " stributed)                                                      \n",
      "                                                                 \n",
      " time_distributed_22 (TimeDi  (None, 16, 1, 1, 1024)   0         \n",
      " stributed)                                                      \n",
      "                                                                 \n",
      " time_distributed_23 (TimeDi  (None, 16, 1024)         0         \n",
      " stributed)                                                      \n",
      "                                                                 \n",
      " gru_2 (GRU)                 (None, 128)               443136    \n",
      "                                                                 \n",
      " dropout_18 (Dropout)        (None, 128)               0         \n",
      "                                                                 \n",
      " dense_12 (Dense)            (None, 128)               16512     \n",
      "                                                                 \n",
      " dropout_19 (Dropout)        (None, 128)               0         \n",
      "                                                                 \n",
      " dense_13 (Dense)            (None, 5)                 645       \n",
      "                                                                 \n",
      "=================================================================\n",
      "Total params: 3,693,253\n",
      "Trainable params: 3,669,317\n",
      "Non-trainable params: 23,936\n",
      "_________________________________________________________________\n",
      "None\n"
     ]
    }
   ],
   "source": [
    "optimiser =tf.keras.optimizers.Adam() #write your optimizer\n",
    "model.compile(optimizer=optimiser, loss='categorical_crossentropy', metrics=['categorical_accuracy'])\n",
    "print (model.summary())"
   ]
  },
  {
   "cell_type": "code",
   "execution_count": 48,
   "metadata": {
    "id": "OCSx1FzdAAP-"
   },
   "outputs": [],
   "source": [
    "# creating the `train_generator` and the `val_generator` which is used in `.fit_generator`.\n",
    "\n",
    "train_generator = generator(train_path, train_doc, batch_size)\n",
    "val_generator = generator(val_path, val_doc, batch_size)"
   ]
  },
  {
   "cell_type": "code",
   "execution_count": 49,
   "metadata": {
    "id": "YybR_MSlAAP_"
   },
   "outputs": [],
   "source": [
    "model_name = 'model_init8' + '_' + str(curr_dt_time).replace(' ','').replace(':','_') + '/'\n",
    "    \n",
    "if not os.path.exists(model_name):\n",
    "    os.mkdir(model_name)\n",
    "        \n",
    "filepath = model_name + 'model-{epoch:05d}-{loss:.5f}-{categorical_accuracy:.5f}-{val_loss:.5f}-{val_categorical_accuracy:.5f}.h5'\n",
    "\n",
    "checkpoint = ModelCheckpoint(filepath, monitor='val_loss', verbose=1, save_best_only=True, save_weights_only=False, mode='auto', save_freq='epoch')\n",
    "\n",
    "LR =ReduceLROnPlateau(monitor='val_loss', factor=0.2, verbose=1, patience=4) # write the REducelronplateau code here\n",
    "\n",
    "earlystop = EarlyStopping( monitor=\"val_loss\", min_delta=0,patience=10,verbose=1)\n",
    "\n",
    "callbacks_list = [checkpoint, LR, earlystop]"
   ]
  },
  {
   "cell_type": "markdown",
   "metadata": {
    "id": "ukoHH_CwAAP_"
   },
   "source": [
    "The `steps_per_epoch` and `validation_steps` are used by `fit_generator` to decide the number of next() calls it need to make."
   ]
  },
  {
   "cell_type": "code",
   "execution_count": 50,
   "metadata": {
    "id": "NDR4SI3GAAP_"
   },
   "outputs": [],
   "source": [
    "if (num_train_sequences%batch_size) == 0:\n",
    "    steps_per_epoch = int(num_train_sequences/batch_size)\n",
    "else:\n",
    "    steps_per_epoch = (num_train_sequences//batch_size) + 1\n",
    "\n",
    "if (num_val_sequences%batch_size) == 0:\n",
    "    validation_steps = int(num_val_sequences/batch_size)\n",
    "else:\n",
    "    validation_steps = (num_val_sequences//batch_size) + 1"
   ]
  },
  {
   "cell_type": "markdown",
   "metadata": {
    "id": "bcKIHZiPAAQA"
   },
   "source": [
    "### Fit Model\n",
    "\n",
    "Now fit the model. This will start training the model and with the help of the checkpoints, we'll be able to save the model at the end of each epoch."
   ]
  },
  {
   "cell_type": "code",
   "execution_count": 51,
   "metadata": {
    "id": "SiUAAV1NAAQA"
   },
   "outputs": [
    {
     "name": "stdout",
     "output_type": "stream",
     "text": [
      "Source path =  /home/datasets/Project_data/train ; batch size = 40\n",
      "Epoch 1/20\n",
      "17/17 [==============================] - ETA: 0s - loss: 1.1631 - categorical_accuracy: 0.5437Source path =  /home/datasets/Project_data/val ; batch size = 40\n",
      "\n",
      "Epoch 00001: val_loss improved from inf to 0.95682, saving model to model_init8_2023-01-1207_22_50.672875/model-00001-1.16307-0.54373-0.95682-0.40833.h5\n",
      "17/17 [==============================] - 70s 4s/step - loss: 1.1631 - categorical_accuracy: 0.5437 - val_loss: 0.9568 - val_categorical_accuracy: 0.4083 - lr: 0.0010\n",
      "Epoch 2/20\n",
      "17/17 [==============================] - ETA: 0s - loss: 0.3712 - categorical_accuracy: 0.8397\n",
      "Epoch 00002: val_loss improved from 0.95682 to 0.48265, saving model to model_init8_2023-01-1207_22_50.672875/model-00002-0.37115-0.83965-0.48265-0.61667.h5\n",
      "17/17 [==============================] - 65s 4s/step - loss: 0.3712 - categorical_accuracy: 0.8397 - val_loss: 0.4826 - val_categorical_accuracy: 0.6167 - lr: 0.0010\n",
      "Epoch 3/20\n",
      "17/17 [==============================] - ETA: 0s - loss: 0.1145 - categorical_accuracy: 0.9359\n",
      "Epoch 00003: val_loss improved from 0.48265 to 0.44713, saving model to model_init8_2023-01-1207_22_50.672875/model-00003-0.11449-0.93586-0.44713-0.64167.h5\n",
      "17/17 [==============================] - 63s 4s/step - loss: 0.1145 - categorical_accuracy: 0.9359 - val_loss: 0.4471 - val_categorical_accuracy: 0.6417 - lr: 0.0010\n",
      "Epoch 4/20\n",
      "17/17 [==============================] - ETA: 0s - loss: 0.0951 - categorical_accuracy: 0.9636\n",
      "Epoch 00004: val_loss improved from 0.44713 to 0.39601, saving model to model_init8_2023-01-1207_22_50.672875/model-00004-0.09509-0.96356-0.39601-0.83333.h5\n",
      "17/17 [==============================] - 64s 4s/step - loss: 0.0951 - categorical_accuracy: 0.9636 - val_loss: 0.3960 - val_categorical_accuracy: 0.8333 - lr: 0.0010\n",
      "Epoch 5/20\n",
      "17/17 [==============================] - ETA: 0s - loss: 0.1078 - categorical_accuracy: 0.9329\n",
      "Epoch 00005: val_loss did not improve from 0.39601\n",
      "17/17 [==============================] - 64s 4s/step - loss: 0.1078 - categorical_accuracy: 0.9329 - val_loss: 0.5477 - val_categorical_accuracy: 0.6250 - lr: 0.0010\n",
      "Epoch 6/20\n",
      "17/17 [==============================] - ETA: 0s - loss: 0.0950 - categorical_accuracy: 0.9446\n",
      "Epoch 00006: val_loss improved from 0.39601 to 0.31194, saving model to model_init8_2023-01-1207_22_50.672875/model-00006-0.09503-0.94461-0.31194-0.89167.h5\n",
      "17/17 [==============================] - 63s 4s/step - loss: 0.0950 - categorical_accuracy: 0.9446 - val_loss: 0.3119 - val_categorical_accuracy: 0.8917 - lr: 0.0010\n",
      "Epoch 7/20\n",
      "17/17 [==============================] - ETA: 0s - loss: 0.0701 - categorical_accuracy: 0.9592\n",
      "Epoch 00007: val_loss improved from 0.31194 to 0.28036, saving model to model_init8_2023-01-1207_22_50.672875/model-00007-0.07010-0.95918-0.28036-0.75833.h5\n",
      "17/17 [==============================] - 65s 4s/step - loss: 0.0701 - categorical_accuracy: 0.9592 - val_loss: 0.2804 - val_categorical_accuracy: 0.7583 - lr: 0.0010\n",
      "Epoch 8/20\n",
      "17/17 [==============================] - ETA: 0s - loss: 0.0449 - categorical_accuracy: 0.9519\n",
      "Epoch 00008: val_loss did not improve from 0.28036\n",
      "17/17 [==============================] - 64s 4s/step - loss: 0.0449 - categorical_accuracy: 0.9519 - val_loss: 0.4311 - val_categorical_accuracy: 0.9000 - lr: 0.0010\n",
      "Epoch 9/20\n",
      "17/17 [==============================] - ETA: 0s - loss: 0.0616 - categorical_accuracy: 0.9577\n",
      "Epoch 00009: val_loss did not improve from 0.28036\n",
      "17/17 [==============================] - 62s 4s/step - loss: 0.0616 - categorical_accuracy: 0.9577 - val_loss: 0.6636 - val_categorical_accuracy: 0.8333 - lr: 0.0010\n",
      "Epoch 10/20\n",
      "17/17 [==============================] - ETA: 0s - loss: 0.0336 - categorical_accuracy: 0.9621\n",
      "Epoch 00010: val_loss did not improve from 0.28036\n",
      "17/17 [==============================] - 64s 4s/step - loss: 0.0336 - categorical_accuracy: 0.9621 - val_loss: 0.4157 - val_categorical_accuracy: 0.8833 - lr: 0.0010\n",
      "Epoch 11/20\n",
      "17/17 [==============================] - ETA: 0s - loss: 0.0244 - categorical_accuracy: 0.9650\n",
      "Epoch 00011: val_loss did not improve from 0.28036\n",
      "\n",
      "Epoch 00011: ReduceLROnPlateau reducing learning rate to 0.00020000000949949026.\n",
      "17/17 [==============================] - 64s 4s/step - loss: 0.0244 - categorical_accuracy: 0.9650 - val_loss: 0.2955 - val_categorical_accuracy: 0.9250 - lr: 0.0010\n",
      "Epoch 12/20\n",
      "17/17 [==============================] - ETA: 0s - loss: 0.0183 - categorical_accuracy: 0.9752\n",
      "Epoch 00012: val_loss did not improve from 0.28036\n",
      "17/17 [==============================] - 63s 4s/step - loss: 0.0183 - categorical_accuracy: 0.9752 - val_loss: 0.2841 - val_categorical_accuracy: 0.9083 - lr: 2.0000e-04\n",
      "Epoch 13/20\n",
      "17/17 [==============================] - ETA: 0s - loss: 0.0084 - categorical_accuracy: 0.9752\n",
      "Epoch 00013: val_loss improved from 0.28036 to 0.18797, saving model to model_init8_2023-01-1207_22_50.672875/model-00013-0.00837-0.97522-0.18797-0.94167.h5\n",
      "17/17 [==============================] - 65s 4s/step - loss: 0.0084 - categorical_accuracy: 0.9752 - val_loss: 0.1880 - val_categorical_accuracy: 0.9417 - lr: 2.0000e-04\n",
      "Epoch 14/20\n",
      "17/17 [==============================] - ETA: 0s - loss: 0.0046 - categorical_accuracy: 0.9738\n",
      "Epoch 00014: val_loss improved from 0.18797 to 0.13051, saving model to model_init8_2023-01-1207_22_50.672875/model-00014-0.00457-0.97376-0.13051-0.95833.h5\n",
      "17/17 [==============================] - 63s 4s/step - loss: 0.0046 - categorical_accuracy: 0.9738 - val_loss: 0.1305 - val_categorical_accuracy: 0.9583 - lr: 2.0000e-04\n",
      "Epoch 15/20\n",
      "17/17 [==============================] - ETA: 0s - loss: 0.0033 - categorical_accuracy: 0.9752\n",
      "Epoch 00015: val_loss did not improve from 0.13051\n",
      "17/17 [==============================] - 62s 4s/step - loss: 0.0033 - categorical_accuracy: 0.9752 - val_loss: 0.2810 - val_categorical_accuracy: 0.9083 - lr: 2.0000e-04\n",
      "Epoch 16/20\n",
      "17/17 [==============================] - ETA: 0s - loss: 0.0045 - categorical_accuracy: 0.9752\n",
      "Epoch 00016: val_loss did not improve from 0.13051\n",
      "17/17 [==============================] - 64s 4s/step - loss: 0.0045 - categorical_accuracy: 0.9752 - val_loss: 0.2262 - val_categorical_accuracy: 0.9250 - lr: 2.0000e-04\n",
      "Epoch 17/20\n",
      "17/17 [==============================] - ETA: 0s - loss: 0.0043 - categorical_accuracy: 0.9738\n",
      "Epoch 00017: val_loss did not improve from 0.13051\n",
      "17/17 [==============================] - 64s 4s/step - loss: 0.0043 - categorical_accuracy: 0.9738 - val_loss: 0.2080 - val_categorical_accuracy: 0.9417 - lr: 2.0000e-04\n",
      "Epoch 18/20\n",
      "17/17 [==============================] - ETA: 0s - loss: 0.0090 - categorical_accuracy: 0.9708\n",
      "Epoch 00018: val_loss did not improve from 0.13051\n",
      "\n",
      "Epoch 00018: ReduceLROnPlateau reducing learning rate to 4.0000001899898055e-05.\n",
      "17/17 [==============================] - 62s 4s/step - loss: 0.0090 - categorical_accuracy: 0.9708 - val_loss: 0.2424 - val_categorical_accuracy: 0.9250 - lr: 2.0000e-04\n",
      "Epoch 19/20\n",
      "17/17 [==============================] - ETA: 0s - loss: 0.0028 - categorical_accuracy: 0.9723\n",
      "Epoch 00019: val_loss did not improve from 0.13051\n",
      "17/17 [==============================] - 64s 4s/step - loss: 0.0028 - categorical_accuracy: 0.9723 - val_loss: 0.2422 - val_categorical_accuracy: 0.9250 - lr: 4.0000e-05\n",
      "Epoch 20/20\n",
      "17/17 [==============================] - ETA: 0s - loss: 0.0031 - categorical_accuracy: 0.9708\n",
      "Epoch 00020: val_loss did not improve from 0.13051\n",
      "17/17 [==============================] - 64s 4s/step - loss: 0.0031 - categorical_accuracy: 0.9708 - val_loss: 0.2996 - val_categorical_accuracy: 0.9083 - lr: 4.0000e-05\n"
     ]
    }
   ],
   "source": [
    "history=model.fit(train_generator, steps_per_epoch=steps_per_epoch, epochs=num_epochs, verbose=1, \n",
    "                    callbacks=callbacks_list, validation_data=val_generator, \n",
    "                    validation_steps=validation_steps, class_weight=None, workers=1, initial_epoch=0)"
   ]
  },
  {
   "cell_type": "markdown",
   "metadata": {
    "id": "FSHw6cyqAAQA"
   },
   "source": [
    "### Plot graph"
   ]
  },
  {
   "cell_type": "code",
   "execution_count": 52,
   "metadata": {
    "id": "xj0aqS7iAAQA"
   },
   "outputs": [
    {
     "data": {
      "image/png": "[encoded data removed]",
      "text/plain": [
       "<Figure size 1080x288 with 2 Axes>"
      ]
     },
     "metadata": {
      "needs_background": "light"
     },
     "output_type": "display_data"
    }
   ],
   "source": [
    "plot(history)"
   ]
  },
  {
   "cell_type": "markdown",
   "metadata": {},
   "source": [
    "### Model Conclusion\n",
    "\n",
    "#### Model Accuracy on the train set is  97% and on validation set is 99%\n",
    "#### Model is Overfitting\n",
    "\n",
    "#### Output .h5 File\n",
    "\n",
    "#### https://drive.google.com/drive/folders/1UnirheRb6YLq7rGRpp6m135h20IpsQ2P?usp=share_link"
   ]
  }
 ],
 "metadata": {
  "accelerator": "GPU",
  "colab": {
   "include_colab_link": true,
   "name": "Gesture_Recognition.ipynb",
   "provenance": [],
   "toc_visible": true
  },
  "gpuClass": "standard",
  "kernelspec": {
   "display_name": "Python 3 (ipykernel)",
   "language": "python",
   "name": "python3"
  },
  "language_info": {
   "codemirror_mode": {
    "name": "ipython",
    "version": 3
   },
   "file_extension": ".py",
   "mimetype": "text/x-python",
   "name": "python",
   "nbconvert_exporter": "python",
   "pygments_lexer": "ipython3",
   "version": "3.9.12"
  },
  "vscode": {
   "interpreter": {
    "hash": "916dbcbb3f70747c44a77c7bcd40155683ae19c65e1c03b4aa3499c5328201f1"
   }
  }
 },
 "nbformat": 4,
 "nbformat_minor": 4
}
